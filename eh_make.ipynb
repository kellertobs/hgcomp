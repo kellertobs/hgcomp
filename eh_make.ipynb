{
 "cells": [
  {
   "cell_type": "markdown",
   "metadata": {},
   "source": [
    "# Make Mercury from an Enstatite chondrite composition"
   ]
  },
  {
   "cell_type": "code",
   "execution_count": 1,
   "metadata": {},
   "outputs": [],
   "source": [
    "import pandas as pd\n",
    "import numpy as np\n",
    "import matplotlib.pyplot as plt"
   ]
  },
  {
   "cell_type": "markdown",
   "metadata": {},
   "source": [
    "## Readin EH composition file"
   ]
  },
  {
   "cell_type": "code",
   "execution_count": 36,
   "metadata": {},
   "outputs": [],
   "source": [
    "# Read in \n",
    "dfEc = pd.read_csv('eh_comps.csv',header=0,index_col=0,na_values='nan')"
   ]
  },
  {
   "cell_type": "markdown",
   "metadata": {},
   "source": [
    "## Mass balance"
   ]
  },
  {
   "cell_type": "code",
   "execution_count": null,
   "metadata": {},
   "outputs": [],
   "source": [
    "# set masses for each layer\n",
    "\n",
    "masses = {'core':0.670, 'core_err':0.03}\n",
    "# constrain silicate mercury by difference\n",
    "masses['silicate'] = 1 - masses['core']\n",
    "\n",
    "# vector of atomic masses\n",
    "# meeds to match the elemental array passed in for planetary mass balance calculations\n",
    "atmasses = {'O': 15.999,'Si': 28.084, 'Mg': 24.305, 'Al': 26.982, 'Ca': 40.078, 'Fe': 55.845,\n",
    "            'Ni': 58.693, 'S': 32.06, 'Ti': 47.867, 'Mn': 54.938, 'Cr': 51.996, 'Co': 58.933,\n",
    "            'Na': 22.990, 'K': 39.098}"
   ]
  },
  {
   "cell_type": "code",
   "execution_count": null,
   "metadata": {},
   "outputs": [],
   "source": [
    "class Planet:\n",
    "    def __init__(self, reservoirs, components, mix, mod_components=None):\n",
    "        # reservoirs is a dictionary of reservoirs and their mass fractions\n",
    "        self.reservoirs = reservoirs\n",
    "        # components is a dictionary of component compositions that will be mixed to make the planet\n",
    "        # compositions in weight fraction\n",
    "        self.components = components\n",
    "        # this is the mixing matrix, that should relate each reservoir to a mixture of components\n",
    "        # if we wanted to make pseudo compoments (e.g., taking Si out of silicate and into the core)\n",
    "        # then we should add a component modification matrix\n",
    "        self.mix = mix\n",
    "\n",
    "        # this is the object that we would use to modify the component compositions\n",
    "        #  it is structured as a dictionary of dictionaries\n",
    "        #  the outer dictionary is the component we are modifying\n",
    "        #  the inner dictionaries indicate how the other components take the moles from the modified component\n",
    "        #  all loss/gain is on a molar basis\n",
    "        self.mod_components = mod_components\n",
    "        \n",
    "\n",
    "\n"
   ]
  },
  {
   "cell_type": "code",
   "execution_count": null,
   "metadata": {},
   "outputs": [],
   "source": [
    "# mixing matrix mapping reservoirs to components\n",
    "mix = {'core'  : {'metal':1, 'silicate':0, 'sulfide':0},\n",
    "       'mantle': {'metal':0, \n",
    "                  'silicate':dfEc.loc['silicate'].prop/(dfEc.loc['silicate'].prop + dfEc.loc['sulfide'].prop), \n",
    "                  'sulfide': dfEc.loc['sulfide'].prop/(dfEc.loc['silicate'].prop + dfEc.loc['sulfide'].prop)}}\n",
    "\n",
    "# component modification matrix\n",
    "#  the inner dictionaries of arrays describe the fraction of moles lost from each component of each element\n",
    "#  the inner dictionaries of arrays, for the component not being modified, should sum to 1.\n",
    "#  e.g., if we modify silicate, then the metal + sulfide arrays should sum to 1 for each element\n",
    "mod_componentds = {'silicate': {'silicate': np.zeros(len(atmasses)), 'metal': np.zeros(len(atmasses)), 'sulfide': np.zeros(len(atmasses))},\n",
    "                   'metal'   : {'silicate': np.zeros(len(atmasses)), 'metal': np.zeros(len(atmasses)), 'sulfide': np.zeros(len(atmasses))},\n",
    "                   'sulfide' : {'silicate': np.zeros(len(atmasses)), 'metal': np.zeros(len(atmasses)), 'sulfide': np.zeros(len(atmasses))}}\n",
    "\n",
    "merc = Planet(masses, \n",
    "              {'silicate': dfEc.loc['silicate'], 'metal': dfEc.loc['metal'], 'sulfide': dfEc.loc['sulfide']},\n",
    "              mix)"
   ]
  },
  {
   "cell_type": "code",
   "execution_count": 40,
   "metadata": {},
   "outputs": [
    {
     "data": {
      "text/plain": [
       "{'core': {'metal': 1, 'silicate': 0, 'sulfide': 0},\n",
       " 'mantle': {'metal': 0,\n",
       "  'silicate': np.float64(0.8548185231539425),\n",
       "  'sulfide': np.float64(0.1451814768460576)}}"
      ]
     },
     "execution_count": 40,
     "metadata": {},
     "output_type": "execute_result"
    }
   ],
   "source": [
    "merc.mix"
   ]
  },
  {
   "cell_type": "code",
   "execution_count": null,
   "metadata": {},
   "outputs": [],
   "source": []
  }
 ],
 "metadata": {
  "kernelspec": {
   "display_name": "base",
   "language": "python",
   "name": "python3"
  },
  "language_info": {
   "codemirror_mode": {
    "name": "ipython",
    "version": 3
   },
   "file_extension": ".py",
   "mimetype": "text/x-python",
   "name": "python",
   "nbconvert_exporter": "python",
   "pygments_lexer": "ipython3",
   "version": "3.12.2"
  }
 },
 "nbformat": 4,
 "nbformat_minor": 2
}
