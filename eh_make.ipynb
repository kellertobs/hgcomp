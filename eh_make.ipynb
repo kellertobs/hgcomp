{
 "cells": [
  {
   "cell_type": "markdown",
   "metadata": {},
   "source": [
    "# Make Mercury from an Enstatite chondrite composition"
   ]
  },
  {
   "cell_type": "code",
   "execution_count": 550,
   "metadata": {},
   "outputs": [],
   "source": [
    "import pandas as pd\n",
    "import numpy as np\n",
    "import matplotlib.pyplot as plt\n",
    "from operator import itemgetter\n",
    "from copy import deepcopy"
   ]
  },
  {
   "cell_type": "markdown",
   "metadata": {},
   "source": [
    "## Global reference data"
   ]
  },
  {
   "cell_type": "code",
   "execution_count": 551,
   "metadata": {},
   "outputs": [],
   "source": [
    "# vector of atomic masses\n",
    "atmasses = {'O': 15.999,'Si': 28.084, 'Mg': 24.305, 'Al': 26.982, 'Ca': 40.078, 'Fe': 55.845,\n",
    "            'Ni': 58.693, 'S': 32.06, 'Ti': 47.867, 'Mn': 54.938, 'Cr': 51.996, 'Co': 58.933,\n",
    "            'Na': 22.990, 'K': 39.098}\n",
    "\n",
    "\n",
    "# the mapping between the element weight percent the oxide fractions required as input for thermodynamic calculations\n",
    "thermoElements = ['O', 'Si', 'Mg', 'Al', 'Ca', 'Fe', 'Ti', 'Cr', 'Na', 'K']\n",
    "thermoMap = {'O': 'O', 'Si': 'SiO2', 'Mg': 'MgO', 'Al': 'Al2O3', 'Ca': 'CaO', 'Fe': 'FeO', 'Ti': 'TiO2', 'Cr': 'Cr2O3', 'Na': 'Na2O', 'K': 'K2O'}\n",
    "molMasses = {'O':     atmasses['O'],\n",
    "             'SiO2':  atmasses['Si'] + atmasses['O']*2,\n",
    "             'MgO':   atmasses['Mg'] + atmasses['O'],\n",
    "             'Al2O3': atmasses['Al'] + atmasses['O']*1.5,\n",
    "             'CaO':   atmasses['Ca'] + atmasses['O'],\n",
    "             'FeO':   atmasses['Fe'] + atmasses['O'],\n",
    "             'TiO2':  atmasses['Ti'] + atmasses['O']*2,\n",
    "             'Cr2O3': atmasses['Cr'] + atmasses['O']*1.5,\n",
    "             'Na2O':  atmasses['Na'] + atmasses['O']*0.5,\n",
    "             'K2O':   atmasses['K'] + atmasses['O']*0.5}\n",
    "\n",
    "thermoMat = {'O':    [1, 0, 0, 0, 0, 0, 0, 0, 0, 0], \n",
    "             'SiO2': [2, 1, 0, 0, 0, 0, 0, 0, 0, 0],\n",
    "             'MgO':  [1, 0, 1, 0, 0, 0, 0, 0, 0, 0],\n",
    "             'Al2O3':[3, 0, 0, 2, 0, 0, 0, 0, 0, 0],\n",
    "             'CaO':  [1, 0, 0, 0, 1, 0, 0, 0, 0, 0],\n",
    "             'FeO':  [1, 0, 0, 0, 0, 1, 0, 0, 0, 0],\n",
    "             'TiO2': [2, 0, 0, 0, 0, 0, 1, 0, 0, 0],\n",
    "             'Cr2O3':[3, 0, 0, 0, 0, 0, 0, 2, 0, 0],\n",
    "             'Na2O': [2, 0, 0, 0, 0, 0, 0, 0, 1, 0],\n",
    "             'K2O':  [2, 0, 0, 0, 0, 0, 0, 0, 0, 1]}"
   ]
  },
  {
   "cell_type": "markdown",
   "metadata": {},
   "source": [
    "## Readin EH composition file"
   ]
  },
  {
   "cell_type": "code",
   "execution_count": 552,
   "metadata": {},
   "outputs": [
    {
     "name": "stdout",
     "output_type": "stream",
     "text": [
      "-----------------\n",
      "length of atmasses: 14 vs. length of elements: 14\n",
      "----------------- \n",
      "Check sum to 100 for all elements\n"
     ]
    },
    {
     "data": {
      "text/plain": [
       "np.float64(2.051025512756378)"
      ]
     },
     "execution_count": 552,
     "metadata": {},
     "output_type": "execute_result"
    }
   ],
   "source": [
    "# Read in enstatite composition (all mass percent)\n",
    "dfEc = pd.read_csv('eh_comps.csv',header=0,index_col=0,na_values='nan')\n",
    "\n",
    "# replace nan with 0\n",
    "dfEc = dfEc.fillna(0)\n",
    "\n",
    "# available elements: from intersection of atmasses keys and dfEc columns\n",
    "elements = list(set(atmasses.keys()).intersection(dfEc.columns))\n",
    "\n",
    "print('-----------------')\n",
    "print('length of atmasses:', len(atmasses), 'vs. length of elements:', len(elements))\n",
    "\n",
    "# the individual compoments (metal, silicate, sulfide etc.) need normalising to 100wt%\n",
    "#  ...they are not normalised to 100% in the Javoy2010 data\n",
    "dfEc[elements] = dfEc[elements].div(dfEc[elements].sum(axis=1)/100, axis=0)\n",
    "dfEcTmp = deepcopy(dfEc)\n",
    "\n",
    "print('-----------------','\\nCheck sum to 100 for all elements')\n",
    "dfEc[elements].sum(axis=1)\n",
    "\n",
    "dfEc.loc['metal']['Si']"
   ]
  },
  {
   "cell_type": "markdown",
   "metadata": {},
   "source": [
    "## Mass balance"
   ]
  },
  {
   "cell_type": "code",
   "execution_count": 553,
   "metadata": {},
   "outputs": [
    {
     "name": "stdout",
     "output_type": "stream",
     "text": [
      "----------------- \n",
      "Masses for each layer:\n",
      "[('core', np.float64(0.67)), ('mantle', np.float64(0.32999999999999996))]\n",
      "----------------- \n",
      "Total mass check:\n"
     ]
    },
    {
     "data": {
      "text/plain": [
       "np.float64(1.0)"
      ]
     },
     "execution_count": 553,
     "metadata": {},
     "output_type": "execute_result"
    }
   ],
   "source": [
    "# set masses for each layer, [mass fraction, uncertainty]\n",
    "\n",
    "masses = {'core': np.array([0.670, 0.03])}\n",
    "# constrain silicate mercury by difference\n",
    "masses['mantle'] = np.array([1. - masses['core'][0], 0.00])\n",
    "\n",
    "print('-----------------','\\nMasses for each layer:')\n",
    "print([(k, masses[k][0]) for k in masses.keys()])\n",
    "\n",
    "print('-----------------','\\nTotal mass check:')\n",
    "np.sum(np.array([masses[k][0] for k in masses.keys()]))\n"
   ]
  },
  {
   "cell_type": "code",
   "execution_count": 554,
   "metadata": {},
   "outputs": [],
   "source": [
    "class Planet:\n",
    "    def __init__(self, reservoirs, components, mix, mod_components=None, elements=elements):\n",
    "        # reservoirs is a dictionary of reservoirs and their mass fractions\n",
    "        self.reservoirs = reservoirs\n",
    "        # components is a dictionary of component compositions that will be mixed to make the planet\n",
    "        # compositions in weight fraction\n",
    "        self.components = components\n",
    "        self.components0 = deepcopy(components)\n",
    "        # this is the mixing matrix, that should relate each reservoir to a mixture of components\n",
    "        # if we wanted to make pseudo compoments (e.g., taking Si out of silicate and into the core)\n",
    "        # then we should add a component modification matrix\n",
    "        self.mix = mix\n",
    "\n",
    "        # this is the object that we would use to modify the component compositions\n",
    "        #  it is structured as a dictionary of dictionaries\n",
    "        #  the outer dictionary is the component we are modifying\n",
    "        #  the inner dictionaries indicate how the other components take the moles from the modified component\n",
    "        #  all loss/gain is on a molar basis\n",
    "        self.mod_components = mod_components\n",
    "        self.mod_components0 = deepcopy(mod_components)\n",
    "        \n",
    "        # a list of elements to use for the mass balance calculations, defaults to the elements vector generated above in code\n",
    "        self.elements = elements\n",
    "\n",
    "    def components_reset(self):\n",
    "        self.components = self.components0\n",
    "\n",
    "    def mod_reset(self):\n",
    "        self.mod_components = self.mod_components0\n",
    "\n",
    "\n",
    "        # do mass balance....\n",
    "    def get_compositions(self):\n",
    "        # loop over planetary reservoirs\n",
    "        # initialise composition of reservoir dictionary\n",
    "        resComp = { r:{key: 0. for key in elements} for r in self.reservoirs.keys() }\n",
    "\n",
    "        self.new_components = deepcopy(self.components)\n",
    "        # create new components by compositional modification\n",
    "        # loop over compoments\n",
    "        for comp in self.mod_components.keys():\n",
    "            \n",
    "            for e in self.elements:\n",
    "                self.new_components[comp][e] = self.components[comp][e] + self.components[comp][e]*self.mod_components[comp][comp][e]\n",
    "            # renormalise to 100wt %\n",
    "            self.new_components[comp] = self.new_components[comp][self.elements].div(self.new_components[comp][self.elements].sum()/100)\n",
    "\n",
    "            # get the mass fractions of components in the bulk planet\n",
    "            mfrac = {x:0. for x in self.components.keys()}\n",
    "            for e_comp in set(self.mod_components[comp].keys()):\n",
    "                # need to set the mass fraction of the respective components in the system for component exchange\n",
    "                for e_res in self.mix.keys():\n",
    "                    mfrac[e_comp] += self.mix[e_res][e_comp] * self.reservoirs[e_res][0]\n",
    "\n",
    "\n",
    "            # loop over components that are not the one being modified and update their composition\n",
    "            for e_comp in set(self.mod_components[comp].keys()).difference([comp]):\n",
    "                # need to set the mass fraction of the respective components in the system for component exchange\n",
    "                for e in self.elements:\n",
    "                    self.new_components[e_comp][e] = (mfrac[e_comp] * self.components[e_comp][e] -\\\n",
    "                                                     mfrac[comp] * self.mod_components[comp][e_comp][e] * self.mod_components[comp][comp][e] * self.components[comp][e])/mfrac[e_comp]\n",
    "                    # self.new_components[e_comp][e] = mfrac[e_comp]/(mfrac[e_comp] + mfrac[comp]) * self.components[e_comp][e] -\\\n",
    "                    #                                  mfrac[comp]/(mfrac[e_comp] + mfrac[comp])   * self.mod_components[comp][e_comp][e] * self.mod_components[comp][comp][e] * self.components[comp][e]\n",
    "\n",
    "\n",
    "                # renormalise to 100wt %\n",
    "                self.new_components[e_comp][self.elements] = self.new_components[e_comp][self.elements].div(self.new_components[e_comp][self.elements].sum()/100)\n",
    "\n",
    "        # self.new_components = self.components.copy()\n",
    "\n",
    "        for res in self.reservoirs:\n",
    "            for comp in self.new_components:\n",
    "                for e in elements:\n",
    "                    resComp[res][e] = resComp[res][e] + self.mix[res][comp] * self.new_components[comp][e]\n",
    "\n",
    "        return(resComp)"
   ]
  },
  {
   "cell_type": "code",
   "execution_count": 555,
   "metadata": {},
   "outputs": [
    {
     "data": {
      "text/plain": [
       "{'core': {'Fe': np.float64(90.54527263631816),\n",
       "  'Na': np.float64(0.0),\n",
       "  'Co': np.float64(0.31015507753876936),\n",
       "  'Cr': np.float64(0.0),\n",
       "  'Al': np.float64(0.0),\n",
       "  'Ca': np.float64(0.0),\n",
       "  'O': np.float64(0.0),\n",
       "  'Mg': np.float64(0.0),\n",
       "  'Si': np.float64(2.051025512756378),\n",
       "  'K': np.float64(0.0),\n",
       "  'Mn': np.float64(0.0),\n",
       "  'Ti': np.float64(0.0),\n",
       "  'Ni': np.float64(7.093546773386692),\n",
       "  'S': np.float64(0.0)},\n",
       " 'mantle': {'Fe': np.float64(0.33375975410839237),\n",
       "  'Na': np.float64(1.0356715404882604),\n",
       "  'Co': np.float64(0.0),\n",
       "  'Cr': np.float64(0.12961013632583127),\n",
       "  'Al': np.float64(1.3543350015528286),\n",
       "  'Ca': np.float64(1.0161705487178967),\n",
       "  'O': np.float64(47.002569465192714),\n",
       "  'Mg': np.float64(19.41867218525985),\n",
       "  'Si': np.float64(29.575769345682694),\n",
       "  'K': np.float64(0.08964031537389677),\n",
       "  'Mn': np.float64(0.030082683393508874),\n",
       "  'Ti': np.float64(0.010027232270343524),\n",
       "  'Ni': np.float64(1.973164956590371e-06),\n",
       "  'S': np.float64(0.003689818468823994)}}"
      ]
     },
     "execution_count": 555,
     "metadata": {},
     "output_type": "execute_result"
    }
   ],
   "source": [
    "# mixing matrix mapping reservoirs to components\n",
    "mix = {'core'  : {'metal':1, 'silicate':0, 'sulfide':0},\n",
    "       'mantle': {'metal':0, \n",
    "                  'silicate': 1-1e-4, \n",
    "                  'sulfide': 1e-4}}\n",
    "\n",
    "# mix = {'core'  : {'metal':1, 'silicate':0, 'sulfide':0},\n",
    "#        'mantle': {'metal':0, \n",
    "#                   'silicate':dfEc.loc['silicate'].prop/(dfEc.loc['silicate'].prop + dfEc.loc['sulfide'].prop), \n",
    "#                   'sulfide': dfEc.loc['sulfide'].prop/(dfEc.loc['silicate'].prop + dfEc.loc['sulfide'].prop)}}\n",
    "\n",
    "\n",
    "# component modification matrix\n",
    "#  the inner dictionaries of arrays describe the fraction of moles lost from each component of each element\n",
    "#  the inner dictionaries of arrays, for the component not being modified, should sum to 1.\n",
    "#  e.g., if we modify silicate, then the metal + sulfide arrays should sum to 1 for each element\n",
    "# 'Fe', 'Na', 'Co', 'Cr', 'Al', 'Ca', 'O', 'Mg', 'Si', 'K', 'Mn', 'Ti', 'Ni', 'S'\n",
    "mod_components = {'metal': {'silicate': {'Fe':0., 'Na':0., 'Co':0., 'Cr':0., 'Al':0., 'Ca':0., 'O':0., 'Mg':0., 'Si':0., 'K':0., 'Mn':0., 'Ti':0., 'Ni':0., 'S':0.}, \n",
    "                            'metal':    {'Fe':0., 'Na':0., 'Co':0., 'Cr':0., 'Al':0., 'Ca':0., 'O':0., 'Mg':0., 'Si':0., 'K':0., 'Mn':0., 'Ti':0., 'Ni':0., 'S':0.},\n",
    "                            'sulfide':  {'Fe':0., 'Na':0., 'Co':0., 'Cr':0., 'Al':0., 'Ca':0., 'O':0., 'Mg':0., 'Si':0., 'K':0., 'Mn':0., 'Ti':0., 'Ni':0., 'S':0.}}}\n",
    "# ,\n",
    "#                    'metal'   : {'silicate': np.zeros(len(atmasses)), 'metal': np.zeros(len(atmasses)), 'sulfide': np.zeros(len(atmasses))},\n",
    "#                    'sulfide' : {'silicate': np.zeros(len(atmasses)), 'metal': np.zeros(len(atmasses)), 'sulfide': np.zeros(len(atmasses))}\n",
    "\n",
    "merc = Planet(masses, \n",
    "              {'silicate': dfEc.loc['silicate'], 'metal': dfEc.loc['metal'], 'sulfide': dfEc.loc['sulfide']},\n",
    "              mix,\n",
    "              mod_components=mod_components)\n",
    "\n",
    "merc.get_compositions()\n",
    "# print(merc.get_compositions()['mantle']['Si'] * merc.reservoirs['mantle'][0] + merc.get_compositions()['core']['Si'] * merc.reservoirs['core'][0])"
   ]
  },
  {
   "cell_type": "code",
   "execution_count": 556,
   "metadata": {},
   "outputs": [
    {
     "name": "stderr",
     "output_type": "stream",
     "text": [
      "/var/folders/4n/4ck331k92b33y7_w0vxrgmtc0000gn/T/ipykernel_31071/1804165405.py:67: FutureWarning: ChainedAssignmentError: behaviour will change in pandas 3.0!\n",
      "You are setting values through chained assignment. Currently this works in certain cases, but when using Copy-on-Write (which will become the default behaviour in pandas 3.0) this will never work to update the original DataFrame or Series, because the intermediate object on which we are setting values will behave as a copy.\n",
      "A typical example is when you are setting values in a column of a DataFrame, like:\n",
      "\n",
      "df[\"col\"][row_indexer] = value\n",
      "\n",
      "Use `df.loc[row_indexer, \"col\"] = values` instead, to perform the assignment in a single step and ensure this keeps updating the original `df`.\n",
      "\n",
      "See the caveats in the documentation: https://pandas.pydata.org/pandas-docs/stable/user_guide/indexing.html#returning-a-view-versus-a-copy\n",
      "\n",
      "  dfEcTmp['Si'].loc['metal'] = si\n",
      "/var/folders/4n/4ck331k92b33y7_w0vxrgmtc0000gn/T/ipykernel_31071/1804165405.py:67: SettingWithCopyWarning: \n",
      "A value is trying to be set on a copy of a slice from a DataFrame\n",
      "\n",
      "See the caveats in the documentation: https://pandas.pydata.org/pandas-docs/stable/user_guide/indexing.html#returning-a-view-versus-a-copy\n",
      "  dfEcTmp['Si'].loc['metal'] = si\n",
      "/var/folders/4n/4ck331k92b33y7_w0vxrgmtc0000gn/T/ipykernel_31071/1804165405.py:67: FutureWarning: ChainedAssignmentError: behaviour will change in pandas 3.0!\n",
      "You are setting values through chained assignment. Currently this works in certain cases, but when using Copy-on-Write (which will become the default behaviour in pandas 3.0) this will never work to update the original DataFrame or Series, because the intermediate object on which we are setting values will behave as a copy.\n",
      "A typical example is when you are setting values in a column of a DataFrame, like:\n",
      "\n",
      "df[\"col\"][row_indexer] = value\n",
      "\n",
      "Use `df.loc[row_indexer, \"col\"] = values` instead, to perform the assignment in a single step and ensure this keeps updating the original `df`.\n",
      "\n",
      "See the caveats in the documentation: https://pandas.pydata.org/pandas-docs/stable/user_guide/indexing.html#returning-a-view-versus-a-copy\n",
      "\n",
      "  dfEcTmp['Si'].loc['metal'] = si\n",
      "/var/folders/4n/4ck331k92b33y7_w0vxrgmtc0000gn/T/ipykernel_31071/1804165405.py:67: SettingWithCopyWarning: \n",
      "A value is trying to be set on a copy of a slice from a DataFrame\n",
      "\n",
      "See the caveats in the documentation: https://pandas.pydata.org/pandas-docs/stable/user_guide/indexing.html#returning-a-view-versus-a-copy\n",
      "  dfEcTmp['Si'].loc['metal'] = si\n",
      "/var/folders/4n/4ck331k92b33y7_w0vxrgmtc0000gn/T/ipykernel_31071/1804165405.py:67: FutureWarning: ChainedAssignmentError: behaviour will change in pandas 3.0!\n",
      "You are setting values through chained assignment. Currently this works in certain cases, but when using Copy-on-Write (which will become the default behaviour in pandas 3.0) this will never work to update the original DataFrame or Series, because the intermediate object on which we are setting values will behave as a copy.\n",
      "A typical example is when you are setting values in a column of a DataFrame, like:\n",
      "\n",
      "df[\"col\"][row_indexer] = value\n",
      "\n",
      "Use `df.loc[row_indexer, \"col\"] = values` instead, to perform the assignment in a single step and ensure this keeps updating the original `df`.\n",
      "\n",
      "See the caveats in the documentation: https://pandas.pydata.org/pandas-docs/stable/user_guide/indexing.html#returning-a-view-versus-a-copy\n",
      "\n",
      "  dfEcTmp['Si'].loc['metal'] = si\n",
      "/var/folders/4n/4ck331k92b33y7_w0vxrgmtc0000gn/T/ipykernel_31071/1804165405.py:67: SettingWithCopyWarning: \n",
      "A value is trying to be set on a copy of a slice from a DataFrame\n",
      "\n",
      "See the caveats in the documentation: https://pandas.pydata.org/pandas-docs/stable/user_guide/indexing.html#returning-a-view-versus-a-copy\n",
      "  dfEcTmp['Si'].loc['metal'] = si\n",
      "/var/folders/4n/4ck331k92b33y7_w0vxrgmtc0000gn/T/ipykernel_31071/1804165405.py:67: FutureWarning: ChainedAssignmentError: behaviour will change in pandas 3.0!\n",
      "You are setting values through chained assignment. Currently this works in certain cases, but when using Copy-on-Write (which will become the default behaviour in pandas 3.0) this will never work to update the original DataFrame or Series, because the intermediate object on which we are setting values will behave as a copy.\n",
      "A typical example is when you are setting values in a column of a DataFrame, like:\n",
      "\n",
      "df[\"col\"][row_indexer] = value\n",
      "\n",
      "Use `df.loc[row_indexer, \"col\"] = values` instead, to perform the assignment in a single step and ensure this keeps updating the original `df`.\n",
      "\n",
      "See the caveats in the documentation: https://pandas.pydata.org/pandas-docs/stable/user_guide/indexing.html#returning-a-view-versus-a-copy\n",
      "\n",
      "  dfEcTmp['Si'].loc['metal'] = si\n",
      "/var/folders/4n/4ck331k92b33y7_w0vxrgmtc0000gn/T/ipykernel_31071/1804165405.py:67: SettingWithCopyWarning: \n",
      "A value is trying to be set on a copy of a slice from a DataFrame\n",
      "\n",
      "See the caveats in the documentation: https://pandas.pydata.org/pandas-docs/stable/user_guide/indexing.html#returning-a-view-versus-a-copy\n",
      "  dfEcTmp['Si'].loc['metal'] = si\n",
      "/var/folders/4n/4ck331k92b33y7_w0vxrgmtc0000gn/T/ipykernel_31071/1804165405.py:67: FutureWarning: ChainedAssignmentError: behaviour will change in pandas 3.0!\n",
      "You are setting values through chained assignment. Currently this works in certain cases, but when using Copy-on-Write (which will become the default behaviour in pandas 3.0) this will never work to update the original DataFrame or Series, because the intermediate object on which we are setting values will behave as a copy.\n",
      "A typical example is when you are setting values in a column of a DataFrame, like:\n",
      "\n",
      "df[\"col\"][row_indexer] = value\n",
      "\n",
      "Use `df.loc[row_indexer, \"col\"] = values` instead, to perform the assignment in a single step and ensure this keeps updating the original `df`.\n",
      "\n",
      "See the caveats in the documentation: https://pandas.pydata.org/pandas-docs/stable/user_guide/indexing.html#returning-a-view-versus-a-copy\n",
      "\n",
      "  dfEcTmp['Si'].loc['metal'] = si\n",
      "/var/folders/4n/4ck331k92b33y7_w0vxrgmtc0000gn/T/ipykernel_31071/1804165405.py:67: SettingWithCopyWarning: \n",
      "A value is trying to be set on a copy of a slice from a DataFrame\n",
      "\n",
      "See the caveats in the documentation: https://pandas.pydata.org/pandas-docs/stable/user_guide/indexing.html#returning-a-view-versus-a-copy\n",
      "  dfEcTmp['Si'].loc['metal'] = si\n",
      "/var/folders/4n/4ck331k92b33y7_w0vxrgmtc0000gn/T/ipykernel_31071/1804165405.py:67: FutureWarning: ChainedAssignmentError: behaviour will change in pandas 3.0!\n",
      "You are setting values through chained assignment. Currently this works in certain cases, but when using Copy-on-Write (which will become the default behaviour in pandas 3.0) this will never work to update the original DataFrame or Series, because the intermediate object on which we are setting values will behave as a copy.\n",
      "A typical example is when you are setting values in a column of a DataFrame, like:\n",
      "\n",
      "df[\"col\"][row_indexer] = value\n",
      "\n",
      "Use `df.loc[row_indexer, \"col\"] = values` instead, to perform the assignment in a single step and ensure this keeps updating the original `df`.\n",
      "\n",
      "See the caveats in the documentation: https://pandas.pydata.org/pandas-docs/stable/user_guide/indexing.html#returning-a-view-versus-a-copy\n",
      "\n",
      "  dfEcTmp['Si'].loc['metal'] = si\n",
      "/var/folders/4n/4ck331k92b33y7_w0vxrgmtc0000gn/T/ipykernel_31071/1804165405.py:67: SettingWithCopyWarning: \n",
      "A value is trying to be set on a copy of a slice from a DataFrame\n",
      "\n",
      "See the caveats in the documentation: https://pandas.pydata.org/pandas-docs/stable/user_guide/indexing.html#returning-a-view-versus-a-copy\n",
      "  dfEcTmp['Si'].loc['metal'] = si\n",
      "/var/folders/4n/4ck331k92b33y7_w0vxrgmtc0000gn/T/ipykernel_31071/1804165405.py:67: FutureWarning: ChainedAssignmentError: behaviour will change in pandas 3.0!\n",
      "You are setting values through chained assignment. Currently this works in certain cases, but when using Copy-on-Write (which will become the default behaviour in pandas 3.0) this will never work to update the original DataFrame or Series, because the intermediate object on which we are setting values will behave as a copy.\n",
      "A typical example is when you are setting values in a column of a DataFrame, like:\n",
      "\n",
      "df[\"col\"][row_indexer] = value\n",
      "\n",
      "Use `df.loc[row_indexer, \"col\"] = values` instead, to perform the assignment in a single step and ensure this keeps updating the original `df`.\n",
      "\n",
      "See the caveats in the documentation: https://pandas.pydata.org/pandas-docs/stable/user_guide/indexing.html#returning-a-view-versus-a-copy\n",
      "\n",
      "  dfEcTmp['Si'].loc['metal'] = si\n",
      "/var/folders/4n/4ck331k92b33y7_w0vxrgmtc0000gn/T/ipykernel_31071/1804165405.py:67: SettingWithCopyWarning: \n",
      "A value is trying to be set on a copy of a slice from a DataFrame\n",
      "\n",
      "See the caveats in the documentation: https://pandas.pydata.org/pandas-docs/stable/user_guide/indexing.html#returning-a-view-versus-a-copy\n",
      "  dfEcTmp['Si'].loc['metal'] = si\n",
      "/var/folders/4n/4ck331k92b33y7_w0vxrgmtc0000gn/T/ipykernel_31071/1804165405.py:67: FutureWarning: ChainedAssignmentError: behaviour will change in pandas 3.0!\n",
      "You are setting values through chained assignment. Currently this works in certain cases, but when using Copy-on-Write (which will become the default behaviour in pandas 3.0) this will never work to update the original DataFrame or Series, because the intermediate object on which we are setting values will behave as a copy.\n",
      "A typical example is when you are setting values in a column of a DataFrame, like:\n",
      "\n",
      "df[\"col\"][row_indexer] = value\n",
      "\n",
      "Use `df.loc[row_indexer, \"col\"] = values` instead, to perform the assignment in a single step and ensure this keeps updating the original `df`.\n",
      "\n",
      "See the caveats in the documentation: https://pandas.pydata.org/pandas-docs/stable/user_guide/indexing.html#returning-a-view-versus-a-copy\n",
      "\n",
      "  dfEcTmp['Si'].loc['metal'] = si\n",
      "/var/folders/4n/4ck331k92b33y7_w0vxrgmtc0000gn/T/ipykernel_31071/1804165405.py:67: SettingWithCopyWarning: \n",
      "A value is trying to be set on a copy of a slice from a DataFrame\n",
      "\n",
      "See the caveats in the documentation: https://pandas.pydata.org/pandas-docs/stable/user_guide/indexing.html#returning-a-view-versus-a-copy\n",
      "  dfEcTmp['Si'].loc['metal'] = si\n"
     ]
    },
    {
     "data": {
      "image/png": "[encoded data removed]",
      "text/plain": [
       "<Figure size 800x600 with 1 Axes>"
      ]
     },
     "metadata": {},
     "output_type": "display_data"
    }
   ],
   "source": [
    "fg, ax = plt.subplots()\n",
    "\n",
    "mod_components = {'metal': {'silicate': {'Fe':0., 'Na':0., 'Co':0., 'Cr':0., 'Al':0., 'Ca':0., 'O':0., 'Mg':0., 'Si':0., 'K':0., 'Mn':0., 'Ti':0., 'Ni':0., 'S':0.}, \n",
    "                            'metal':    {'Fe':0., 'Na':0., 'Co':0., 'Cr':0., 'Al':0., 'Ca':0., 'O':0., 'Mg':0., 'Si':0., 'K':0., 'Mn':0., 'Ti':0., 'Ni':0., 'S':0.},\n",
    "                            'sulfide':  {'Fe':0., 'Na':0., 'Co':0., 'Cr':0., 'Al':0., 'Ca':0., 'O':0., 'Mg':0., 'Si':0., 'K':0., 'Mn':0., 'Ti':0., 'Ni':0., 'S':0.}}}\n",
    "\n",
    "merc = Planet(masses,\n",
    "              {'silicate': dfEc.loc['silicate'], 'metal': dfEc.loc['metal'], 'sulfide': dfEc.loc['sulfide']},\n",
    "              mix,\n",
    "              mod_components=mod_components)\n",
    "\n",
    "ax.plot(merc.get_compositions()['core']['Si'], merc.get_compositions()['mantle']['Mg']/merc.get_compositions()['mantle']['Si'] * (atmasses['Si']/atmasses['Mg']), 'o',\n",
    "        color='black', zorder=2)\n",
    "\n",
    "# factors of Si remova/addition to loop over\n",
    "facs = np.linspace(-1,1,100)\n",
    "# output for plotting\n",
    "out = np.zeros((len(facs), 3))\n",
    "# matrix for output for thermodynamic calculations\n",
    "thermoOut = np.zeros((len(facs), 1+len(thermoElements)))\n",
    "for i, xi in enumerate(facs):\n",
    "        mod_components['metal']['metal']['Si'] = xi\n",
    "        mod_components['metal']['silicate']['Si'] = 1\n",
    "\n",
    "        merc.mod_components = mod_components\n",
    "\n",
    "        comp = merc.get_compositions()\n",
    "\n",
    "        # store for plotting\n",
    "        out[i, 0] = xi\n",
    "        out[i, 1] = comp['core']['Si']\n",
    "        out[i, 2] = comp['mantle']['Mg']/comp['mantle']['Si'] * (atmasses['Si']/atmasses['Mg'])\n",
    "\n",
    "        # store for thermodynamic calculations\n",
    "        thermoOut[i, 0] = comp['core']['Si']\n",
    "\n",
    "        tmpComp = np.array([comp['mantle'][e] for e in thermoElements])\n",
    "        #  handle oxygen separately\n",
    "        tmpComp[0] = 1e-3\n",
    "        thermoOut[i, 1] = tmpComp[0]\n",
    "\n",
    "        thermoOut[i, 2:] = [comp['mantle'][e] * molMasses[thermoMap[e]]/atmasses[e] for e in thermoElements[1:]]\n",
    "        # renormalise to 100%\n",
    "        thermoOut[i, 1:] = thermoOut[i, 1:] / np.sum(thermoOut[i, 1:]) * 100\n",
    "\n",
    "\n",
    "\n",
    "\n",
    "\n",
    "ax.plot(out[:,1], out[:,2], color='black', zorder=2)\n",
    "\n",
    "# reset planet state for loop over silica content\n",
    "mod_components = {'metal': {'silicate': {'Fe':0., 'Na':0., 'Co':0., 'Cr':0., 'Al':0., 'Ca':0., 'O':0., 'Mg':0., 'Si':0., 'K':0., 'Mn':0., 'Ti':0., 'Ni':0., 'S':0.}, \n",
    "                            'metal':    {'Fe':0., 'Na':0., 'Co':0., 'Cr':0., 'Al':0., 'Ca':0., 'O':0., 'Mg':0., 'Si':0., 'K':0., 'Mn':0., 'Ti':0., 'Ni':0., 'S':0.},\n",
    "                            'sulfide':  {'Fe':0., 'Na':0., 'Co':0., 'Cr':0., 'Al':0., 'Ca':0., 'O':0., 'Mg':0., 'Si':0., 'K':0., 'Mn':0., 'Ti':0., 'Ni':0., 'S':0.}}}\n",
    "\n",
    "merc = Planet(masses,\n",
    "              {'silicate': dfEc.loc['silicate'], 'metal': dfEc.loc['metal'], 'sulfide': dfEc.loc['sulfide']},\n",
    "              mix,\n",
    "              mod_components=mod_components)\n",
    "\n",
    "# manually set range of Si in core\n",
    "sis = np.linspace(0.8,4.2,8)\n",
    "for si in sis:\n",
    "        merc.mod_reset()\n",
    "\n",
    "        dfEcTmp['Si'].loc['metal'] = si\n",
    "        dfEcTmp[elements] = dfEcTmp[elements].div(dfEcTmp[elements].sum(axis=1)/100, axis=0)\n",
    "\n",
    "        # reset planet comp at each new silica composition\n",
    "        mod_components = {'metal': {'silicate': {\n",
    "                'Fe':0., 'Na':0., 'Co':0., 'Cr':0., 'Al':0., 'Ca':0., 'O':0., 'Mg':0., 'Si':0., 'K':0., 'Mn':0., 'Ti':0., 'Ni':0., 'S':0.}, \n",
    "                            'metal':    {'Fe':0., 'Na':0., 'Co':0., 'Cr':0., 'Al':0., 'Ca':0., 'O':0., 'Mg':0., 'Si':0., 'K':0., 'Mn':0., 'Ti':0., 'Ni':0., 'S':0.},\n",
    "                            'sulfide':  {'Fe':0., 'Na':0., 'Co':0., 'Cr':0., 'Al':0., 'Ca':0., 'O':0., 'Mg':0., 'Si':0., 'K':0., 'Mn':0., 'Ti':0., 'Ni':0., 'S':0.}}}\n",
    "\n",
    "\n",
    "        merc = Planet(masses, \n",
    "              {'silicate': dfEcTmp.loc['silicate'], 'metal': dfEcTmp.loc['metal'], 'sulfide': dfEcTmp.loc['sulfide']},\n",
    "              mix,\n",
    "              mod_components=mod_components)\n",
    "    \n",
    "\n",
    "        # ax.plot(merc.get_compositions()['core']['Si'], merc.get_compositions()['mantle']['Mg']/merc.get_compositions()['mantle']['Si'] * (atmasses['Si']/atmasses['Mg']), 'o',\n",
    "                # color='black')\n",
    "\n",
    "        ax.plot(merc.get_compositions()['core']['Si'], merc.get_compositions()['mantle']['Mg']/merc.get_compositions()['mantle']['Si'] * (atmasses['Si']/atmasses['Mg']), 'o',\n",
    "        color='grey', zorder=1, markersize=4)\n",
    "\n",
    "        out = np.zeros((len(facs), 3))\n",
    "        for i, xi in enumerate(facs):\n",
    "                mod_components['metal']['metal']['Si'] = xi\n",
    "                mod_components['metal']['silicate']['Si'] = 1\n",
    "\n",
    "                merc.mod_components = mod_components\n",
    "\n",
    "                comp = merc.get_compositions()\n",
    "\n",
    "                out[i, 0] = xi\n",
    "                out[i, 1] = comp['core']['Si']\n",
    "                out[i, 2] = comp['mantle']['Mg']/comp['mantle']['Si'] * (atmasses['Si']/atmasses['Mg'])\n",
    "                # print(comp['mantle']['Si'] * merc.reservoirs['mantle'][0] + comp['core']['Si'] * merc.reservoirs['core'][0])\n",
    "                # print(comp['core']['Si'])\n",
    "                # print(comp['core'])\n",
    "                # print(comp['mantle'])\n",
    "                # break\n",
    "        ax.plot(out[:,1], out[:,2], color='grey', alpha=0.5, zorder=1)\n",
    "\n",
    "        ax.annotate('{:.1f} Si'.format(si), (out[-1, 1], out[-1, 2]), xytext=(0,5), \n",
    "                    rotation=45, fontsize=6, horizontalalignment='left', verticalalignment='center', textcoords='offset points')\n",
    "\n",
    "\n",
    "# ax.set_xlim([0, 4])\n",
    "\n",
    "ax.set_ylabel(r'$\\mathsf{[Mg/Si]}_\\mathsf{\\,BSM}$ (mol/mol)')\n",
    "ax.set_xlabel(r'$\\mathsf{[Si]}_\\mathsf{\\,core}$ (wt%)')\n",
    "\n",
    "ax.grid(ls=':')\n",
    "\n",
    "fg.set_figwidth(8)\n",
    "fg.set_figheight(6)"
   ]
  },
  {
   "cell_type": "code",
   "execution_count": 557,
   "metadata": {},
   "outputs": [
    {
     "name": "stdout",
     "output_type": "stream",
     "text": [
      "['O', 'SiO2', 'MgO', 'Al2O3', 'CaO', 'FeO', 'TiO2', 'Cr2O3', 'Na2O', 'K2O']\n"
     ]
    },
    {
     "data": {
      "text/plain": [
       "np.float64(0.024110237654956856)"
      ]
     },
     "execution_count": 557,
     "metadata": {},
     "output_type": "execute_result"
    }
   ],
   "source": [
    "print([thermoMap[e] for e in thermoElements])\n",
    "thermoOut[50,2:]\n",
    "thermoOut[50,5]/thermoOut[50,2] * molMasses['SiO2']/molMasses['CaO']"
   ]
  },
  {
   "cell_type": "code",
   "execution_count": null,
   "metadata": {},
   "outputs": [
    {
     "ename": "SyntaxError",
     "evalue": "closing parenthesis ']' does not match opening parenthesis '(' (119283559.py, line 2)",
     "output_type": "error",
     "traceback": [
      "\u001b[0;36m  Cell \u001b[0;32mIn[566], line 2\u001b[0;36m\u001b[0m\n\u001b[0;31m    ['{e} {d:.1f}'.format('e': e, 'd': thermoOut[50,i+1]]) for i, e in enumerate(thermoMap.keys())\u001b[0m\n\u001b[0m                                                        ^\u001b[0m\n\u001b[0;31mSyntaxError\u001b[0m\u001b[0;31m:\u001b[0m closing parenthesis ']' does not match opening parenthesis '('\n"
     ]
    }
   ],
   "source": [
    "thermoOut[50,2:]\n",
    "['{e} {d:.1f}'.format(e, thermoOut[50,i+1]) for i, e in enumerate(thermoMap.keys())"
   ]
  },
  {
   "cell_type": "code",
   "execution_count": 89,
   "metadata": {},
   "outputs": [
    {
     "data": {
      "text/plain": [
       "Phase\n",
       "silicate    1.0036\n",
       "sulfide     1.0136\n",
       "metal       0.9995\n",
       "dtype: float64"
      ]
     },
     "execution_count": 89,
     "metadata": {},
     "output_type": "execute_result"
    }
   ],
   "source": [
    "dfEc[elements].sum(axis=1)/100"
   ]
  },
  {
   "cell_type": "code",
   "execution_count": 196,
   "metadata": {},
   "outputs": [
    {
     "ename": "TypeError",
     "evalue": "unsupported operand type(s) for +: 'float' and 'NoneType'",
     "output_type": "error",
     "traceback": [
      "\u001b[0;31m---------------------------------------------------------------------------\u001b[0m",
      "\u001b[0;31mTypeError\u001b[0m                                 Traceback (most recent call last)",
      "Cell \u001b[0;32mIn[196], line 1\u001b[0m\n\u001b[0;32m----> 1\u001b[0m \u001b[38;5;241m1.\u001b[39m \u001b[38;5;241m+\u001b[39m \u001b[38;5;28;01mNone\u001b[39;00m\n",
      "\u001b[0;31mTypeError\u001b[0m: unsupported operand type(s) for +: 'float' and 'NoneType'"
     ]
    }
   ],
   "source": [
    "1. + None"
   ]
  }
 ],
 "metadata": {
  "kernelspec": {
   "display_name": "base",
   "language": "python",
   "name": "python3"
  },
  "language_info": {
   "codemirror_mode": {
    "name": "ipython",
    "version": 3
   },
   "file_extension": ".py",
   "mimetype": "text/x-python",
   "name": "python",
   "nbconvert_exporter": "python",
   "pygments_lexer": "ipython3",
   "version": "3.12.2"
  }
 },
 "nbformat": 4,
 "nbformat_minor": 2
}
