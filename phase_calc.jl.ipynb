{
 "cells": [
  {
   "cell_type": "code",
   "execution_count": 218,
   "metadata": {},
   "outputs": [
    {
     "ename": "ArgumentError",
     "evalue": "ArgumentError: Package drop not found in current path.\n- Run `import Pkg; Pkg.add(\"drop\")` to install the drop package.",
     "output_type": "error",
     "traceback": [
      "ArgumentError: Package drop not found in current path.\n",
      "- Run `import Pkg; Pkg.add(\"drop\")` to install the drop package.\n",
      "\n",
      "Stacktrace:\n",
      "  [1] macro expansion\n",
      "    @ ./loading.jl:2296 [inlined]\n",
      "  [2] macro expansion\n",
      "    @ ./lock.jl:273 [inlined]\n",
      "  [3] __require(into::Module, mod::Symbol)\n",
      "    @ Base ./loading.jl:2271\n",
      "  [4] #invoke_in_world#3\n",
      "    @ ./essentials.jl:1089 [inlined]\n",
      "  [5] invoke_in_world\n",
      "    @ ./essentials.jl:1086 [inlined]\n",
      "  [6] require(into::Module, mod::Symbol)\n",
      "    @ Base ./loading.jl:2260\n",
      "  [7] eval\n",
      "    @ ./boot.jl:430 [inlined]\n",
      "  [8] include_string(mapexpr::typeof(REPL.softscope), mod::Module, code::String, filename::String)\n",
      "    @ Base ./loading.jl:2734\n",
      "  [9] #invokelatest#2\n",
      "    @ ./essentials.jl:1055 [inlined]\n",
      " [10] invokelatest\n",
      "    @ ./essentials.jl:1052 [inlined]\n",
      " [11] (::VSCodeServer.var\"#217#218\"{VSCodeServer.NotebookRunCellArguments, String})()\n",
      "    @ VSCodeServer ~/.vscode/extensions/julialang.language-julia-1.127.2/scripts/packages/VSCodeServer/src/serve_notebook.jl:24\n",
      " [12] withpath(f::VSCodeServer.var\"#217#218\"{VSCodeServer.NotebookRunCellArguments, String}, path::String)\n",
      "    @ VSCodeServer ~/.vscode/extensions/julialang.language-julia-1.127.2/scripts/packages/VSCodeServer/src/repl.jl:276\n",
      " [13] notebook_runcell_request(conn::VSCodeServer.JSONRPC.JSONRPCEndpoint{Base.PipeEndpoint, Base.PipeEndpoint}, params::VSCodeServer.NotebookRunCellArguments)\n",
      "    @ VSCodeServer ~/.vscode/extensions/julialang.language-julia-1.127.2/scripts/packages/VSCodeServer/src/serve_notebook.jl:13\n",
      " [14] dispatch_msg(x::VSCodeServer.JSONRPC.JSONRPCEndpoint{Base.PipeEndpoint, Base.PipeEndpoint}, dispatcher::VSCodeServer.JSONRPC.MsgDispatcher, msg::Dict{String, Any})\n",
      "    @ VSCodeServer.JSONRPC ~/.vscode/extensions/julialang.language-julia-1.127.2/scripts/packages/JSONRPC/src/typed.jl:67\n",
      " [15] serve_notebook(pipename::String, debugger_pipename::String, outputchannel_logger::Base.CoreLogging.SimpleLogger; error_handler::var\"#5#10\"{String})\n",
      "    @ VSCodeServer ~/.vscode/extensions/julialang.language-julia-1.127.2/scripts/packages/VSCodeServer/src/serve_notebook.jl:147\n",
      " [16] top-level scope\n",
      "    @ ~/.vscode/extensions/julialang.language-julia-1.127.2/scripts/notebook/notebook.jl:35"
     ]
    }
   ],
   "source": [
    "using MAGEMin_C\n",
    "using DataFrames\n",
    "using CSV\n",
    "using drop"
   ]
  },
  {
   "cell_type": "markdown",
   "metadata": {},
   "source": [
    "## Calculate for fiducial Enst composition & metal depleted"
   ]
  },
  {
   "cell_type": "code",
   "execution_count": 405,
   "metadata": {},
   "outputs": [],
   "source": [
    "db = \"ig\"\n",
    "sys_in  = \"wt\"\n",
    "\n",
    "# pressure in kbar\n",
    "P = 50.\n",
    "# temperature \n",
    "T = LinRange(2200, 1000, 20)\n",
    "buffer = \"qfm\"\n",
    "B= -5.\n",
    "\n",
    "database = Initialize_MAGEMin(db, verbose=false, buffer=buffer)\n",
    "\n",
    "dfCompositions = CSV.read(\"thermoInput.csv\", DataFrame)\n",
    "dfCompositionsLSi = CSV.read(\"thermoInputLSi.csv\", DataFrame)\n",
    "\n",
    "# set oxide order based off of data frame, catching the meta data at beginning\n",
    "Xoxides = names(dfCompositions[1,2:end])\n",
    "\n",
    "cOutputs = []\n",
    "for row in eachrow(dfCompositions)\n",
    "    X = Array(row[2:end])\n",
    "    tOutputs = []\n",
    "    for t in T\n",
    "        tout = single_point_minimization(P, t, database, X=X, Xoxides=Xoxides, sys_in=sys_in, B=B)\n",
    "        push!(tOutputs, tout)\n",
    "    end\n",
    "    push!(cOutputs, (row, tOutputs))\n",
    "end"
   ]
  },
  {
   "cell_type": "code",
   "execution_count": 406,
   "metadata": {},
   "outputs": [],
   "source": [
    "cOutputsLSi = []\n",
    "for row in eachrow(dfCompositionsLSi)\n",
    "    X = Array(row[2:end])\n",
    "    tOutputs = []\n",
    "    for t in T\n",
    "        tout = single_point_minimization(P, t, database, X=X, Xoxides=Xoxides, sys_in=sys_in, B=B)\n",
    "        push!(tOutputs, tout)\n",
    "    end\n",
    "    push!(cOutputsLSi, (row, tOutputs))\n",
    "end"
   ]
  },
  {
   "cell_type": "code",
   "execution_count": 407,
   "metadata": {},
   "outputs": [
    {
     "data": {
      "text/plain": [
       "\"subSolLSi.csv\""
      ]
     },
     "metadata": {},
     "output_type": "display_data"
    }
   ],
   "source": [
    "# Regular Si\n",
    "phs = [ph.ph for ph in [cOutputs[i][2][end] for i in eachindex(cOutputs)]]\n",
    "uniquePhs = unique(mapreduce(permutedims, hcat, phs))\n",
    "colnames = vcat([\"coreSi\", \"mgsi\", \"P\", \"T\"], uniquePhs)\n",
    "\n",
    "dfSubSol = DataFrame([name => Float64[] for name = colnames])\n",
    "for i in eachindex(cOutputs)\n",
    "    coreSi = cOutputs[i][1][1]\n",
    "    mgsi = cOutputs[i][1].MgO / cOutputs[i][1].SiO2 * ((28.084 + 15.999*2) / (24.305 + 15.9994))\n",
    "    t = cOutputs[i][2][end].T_C\n",
    "    p = cOutputs[i][2][end].P_kbar\n",
    "    push!(dfSubSol, vcat([coreSi, mgsi, p, t], zeros(length(uniquePhs)) ))\n",
    "    for (j, p) in enumerate(cOutputs[i][2][end].ph)\n",
    "        if p != \"qfm\"\n",
    "            dfSubSol[end, p] = cOutputs[i][2][end].ph_frac_wt[j]\n",
    "        end\n",
    "    end\n",
    "end\n",
    "\n",
    "CSV.write(\"subSol.csv\", dfSubSol)\n",
    "\n",
    "# Low Si\n",
    "phs = [ph.ph for ph in [cOutputsLSi[i][2][end] for i in eachindex(cOutputsLSi)]]\n",
    "uniquePhs = unique(mapreduce(permutedims, hcat, phs))\n",
    "colnames = vcat([\"coreSi\", \"mgsi\", \"P\", \"T\"], uniquePhs)\n",
    "\n",
    "dfSubSolLSi = DataFrame([name => Float64[] for name = colnames])\n",
    "for i in eachindex(cOutputsLSi)\n",
    "    coreSi = cOutputsLSi[i][1][1]\n",
    "    mgsi = cOutputsLSi[i][1].MgO / cOutputsLSi[i][1].SiO2 * ((28.084 + 15.999*2) / (24.305 + 15.9994))\n",
    "    t = cOutputsLSi[i][2][end].T_C\n",
    "    p = cOutputsLSi[i][2][end].P_kbar\n",
    "    push!(dfSubSolLSi, vcat([coreSi, mgsi, p, t], zeros(length(uniquePhs)) ))\n",
    "    for (j, p) in enumerate(cOutputsLSi[i][2][end].ph)\n",
    "        if p != \"qfm\"\n",
    "            dfSubSolLSi[end, p] = cOutputsLSi[i][2][end].ph_frac_wt[j]\n",
    "        end\n",
    "    end\n",
    "end\n",
    "\n",
    "CSV.write(\"subSolLSi.csv\", dfSubSolLSi)"
   ]
  },
  {
   "cell_type": "code",
   "execution_count": 404,
   "metadata": {},
   "outputs": [
    {
     "data": {
      "text/plain": [
       "Pressure          : 50.0      [kbar]\n",
       "Temperature       : 1821.0526    [Celsius]\n",
       "     Stable phase | Fraction (mol fraction) \n",
       "               ol   0.25336 \n",
       "              liq   0.1361 \n",
       "              cpx   0.57659 \n",
       "              opx   0.03395 \n",
       "              qfm   0.0 \n",
       "     Stable phase | Fraction (wt fraction) \n",
       "               ol   0.23298 \n",
       "              liq   0.14157 \n",
       "              cpx   0.59112 \n",
       "              opx   0.03433 \n",
       "              qfm   0.0 \n",
       "     Stable phase | Fraction (vol fraction) \n",
       "               ol   0.23346 \n",
       "              liq   0.15347 \n",
       "              cpx   0.57942 \n",
       "              opx   0.03365 \n",
       "              qfm   0.0 \n",
       "Gibbs free energy : -898.811335  (221 iterations; 119.18 ms)\n",
       "Oxygen fugacity          : -5.9631413134683005\n",
       "Delta QFM                : -5.00010094296507\n"
      ]
     },
     "metadata": {},
     "output_type": "display_data"
    }
   ],
   "source": [
    "cOutputs[end][2][7]"
   ]
  },
  {
   "cell_type": "code",
   "execution_count": 320,
   "metadata": {},
   "outputs": [
    {
     "data": {
      "text/html": [
       "<div><div style = \"float: left;\"><span>2×10 DataFrame</span></div><div style = \"clear: both;\"></div></div><div class = \"data-frame\" style = \"overflow-x: scroll;\"><table class = \"data-frame\" style = \"margin-bottom: 6px;\"><thead><tr class = \"header\"><th class = \"rowNumber\" style = \"font-weight: bold; text-align: right;\">Row</th><th style = \"text-align: left;\">coreSi</th><th style = \"text-align: left;\">mgsi</th><th style = \"text-align: left;\">T</th><th style = \"text-align: left;\">P</th><th style = \"text-align: left;\">g</th><th style = \"text-align: left;\">opx</th><th style = \"text-align: left;\">cpx</th><th style = \"text-align: left;\">coe</th><th style = \"text-align: left;\">qfm</th><th style = \"text-align: left;\">ol</th></tr><tr class = \"subheader headerLastRow\"><th class = \"rowNumber\" style = \"font-weight: bold; text-align: right;\"></th><th title = \"Any\" style = \"text-align: left;\">Any</th><th title = \"Any\" style = \"text-align: left;\">Any</th><th title = \"Any\" style = \"text-align: left;\">Any</th><th title = \"Any\" style = \"text-align: left;\">Any</th><th title = \"Any\" style = \"text-align: left;\">Any</th><th title = \"Any\" style = \"text-align: left;\">Any</th><th title = \"Any\" style = \"text-align: left;\">Any</th><th title = \"Any\" style = \"text-align: left;\">Any</th><th title = \"Any\" style = \"text-align: left;\">Any</th><th title = \"Any\" style = \"text-align: left;\">Any</th></tr></thead><tbody><tr><td class = \"rowNumber\" style = \"font-weight: bold; text-align: right;\">1</td><td style = \"text-align: left;\">1</td><td style = \"text-align: left;\">1</td><td style = \"text-align: left;\">1</td><td style = \"text-align: left;\">1</td><td style = \"text-align: left;\">1</td><td style = \"text-align: left;\">1</td><td style = \"text-align: left;\">1</td><td style = \"text-align: left;\">1</td><td style = \"text-align: left;\">1</td><td style = \"text-align: left;\">1</td></tr><tr><td class = \"rowNumber\" style = \"font-weight: bold; text-align: right;\">2</td><td style = \"text-align: left;\">1</td><td style = \"text-align: left;\">1</td><td style = \"text-align: left;\">1</td><td style = \"text-align: left;\">1</td><td style = \"text-align: left;\">1</td><td style = \"text-align: left;\">1</td><td style = \"text-align: left;\">1</td><td style = \"text-align: left;\">1</td><td style = \"text-align: left;\">1</td><td style = \"text-align: left;\">1</td></tr></tbody></table></div>"
      ],
      "text/latex": [
       "\\begin{tabular}{r|cccccccccc}\n",
       "\t& coreSi & mgsi & T & P & g & opx & cpx & coe & qfm & ol\\\\\n",
       "\t\\hline\n",
       "\t& Any & Any & Any & Any & Any & Any & Any & Any & Any & Any\\\\\n",
       "\t\\hline\n",
       "\t1 & 1 & 1 & 1 & 1 & 1 & 1 & 1 & 1 & 1 & 1 \\\\\n",
       "\t2 & 1 & 1 & 1 & 1 & 1 & 1 & 1 & 1 & 1 & 1 \\\\\n",
       "\\end{tabular}\n"
      ],
      "text/plain": [
       "\u001b[1m2×10 DataFrame\u001b[0m\n",
       "\u001b[1m Row \u001b[0m│\u001b[1m coreSi \u001b[0m\u001b[1m mgsi \u001b[0m\u001b[1m T   \u001b[0m\u001b[1m P   \u001b[0m\u001b[1m g   \u001b[0m\u001b[1m opx \u001b[0m\u001b[1m cpx \u001b[0m\u001b[1m coe \u001b[0m\u001b[1m qfm \u001b[0m\u001b[1m ol  \u001b[0m\n",
       "     │\u001b[90m Any    \u001b[0m\u001b[90m Any  \u001b[0m\u001b[90m Any \u001b[0m\u001b[90m Any \u001b[0m\u001b[90m Any \u001b[0m\u001b[90m Any \u001b[0m\u001b[90m Any \u001b[0m\u001b[90m Any \u001b[0m\u001b[90m Any \u001b[0m\u001b[90m Any \u001b[0m\n",
       "─────┼──────────────────────────────────────────────────────\n",
       "   1 │ 1       1     1    1    1    1    1    1    1    1\n",
       "   2 │ 1       1     1    1    1    1    1    1    1    1"
      ]
     },
     "metadata": {},
     "output_type": "display_data"
    }
   ],
   "source": [
    "push!(dfSubSol, [1,1,1,1,1,1,1,1,1,1])"
   ]
  }
 ],
 "metadata": {
  "kernelspec": {
   "display_name": "Julia 1.11.4",
   "language": "julia",
   "name": "julia-1.11"
  },
  "language_info": {
   "file_extension": ".jl",
   "mimetype": "application/julia",
   "name": "julia",
   "version": "1.11.4"
  }
 },
 "nbformat": 4,
 "nbformat_minor": 2
}
