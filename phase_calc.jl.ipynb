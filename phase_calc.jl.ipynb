{
 "cells": [
  {
   "cell_type": "code",
   "execution_count": 218,
   "metadata": {},
   "outputs": [
    {
     "ename": "ArgumentError",
     "evalue": "ArgumentError: Package drop not found in current path.\n- Run `import Pkg; Pkg.add(\"drop\")` to install the drop package.",
     "output_type": "error",
     "traceback": [
      "ArgumentError: Package drop not found in current path.\n",
      "- Run `import Pkg; Pkg.add(\"drop\")` to install the drop package.\n",
      "\n",
      "Stacktrace:\n",
      "  [1] macro expansion\n",
      "    @ ./loading.jl:2296 [inlined]\n",
      "  [2] macro expansion\n",
      "    @ ./lock.jl:273 [inlined]\n",
      "  [3] __require(into::Module, mod::Symbol)\n",
      "    @ Base ./loading.jl:2271\n",
      "  [4] #invoke_in_world#3\n",
      "    @ ./essentials.jl:1089 [inlined]\n",
      "  [5] invoke_in_world\n",
      "    @ ./essentials.jl:1086 [inlined]\n",
      "  [6] require(into::Module, mod::Symbol)\n",
      "    @ Base ./loading.jl:2260\n",
      "  [7] eval\n",
      "    @ ./boot.jl:430 [inlined]\n",
      "  [8] include_string(mapexpr::typeof(REPL.softscope), mod::Module, code::String, filename::String)\n",
      "    @ Base ./loading.jl:2734\n",
      "  [9] #invokelatest#2\n",
      "    @ ./essentials.jl:1055 [inlined]\n",
      " [10] invokelatest\n",
      "    @ ./essentials.jl:1052 [inlined]\n",
      " [11] (::VSCodeServer.var\"#217#218\"{VSCodeServer.NotebookRunCellArguments, String})()\n",
      "    @ VSCodeServer ~/.vscode/extensions/julialang.language-julia-1.127.2/scripts/packages/VSCodeServer/src/serve_notebook.jl:24\n",
      " [12] withpath(f::VSCodeServer.var\"#217#218\"{VSCodeServer.NotebookRunCellArguments, String}, path::String)\n",
      "    @ VSCodeServer ~/.vscode/extensions/julialang.language-julia-1.127.2/scripts/packages/VSCodeServer/src/repl.jl:276\n",
      " [13] notebook_runcell_request(conn::VSCodeServer.JSONRPC.JSONRPCEndpoint{Base.PipeEndpoint, Base.PipeEndpoint}, params::VSCodeServer.NotebookRunCellArguments)\n",
      "    @ VSCodeServer ~/.vscode/extensions/julialang.language-julia-1.127.2/scripts/packages/VSCodeServer/src/serve_notebook.jl:13\n",
      " [14] dispatch_msg(x::VSCodeServer.JSONRPC.JSONRPCEndpoint{Base.PipeEndpoint, Base.PipeEndpoint}, dispatcher::VSCodeServer.JSONRPC.MsgDispatcher, msg::Dict{String, Any})\n",
      "    @ VSCodeServer.JSONRPC ~/.vscode/extensions/julialang.language-julia-1.127.2/scripts/packages/JSONRPC/src/typed.jl:67\n",
      " [15] serve_notebook(pipename::String, debugger_pipename::String, outputchannel_logger::Base.CoreLogging.SimpleLogger; error_handler::var\"#5#10\"{String})\n",
      "    @ VSCodeServer ~/.vscode/extensions/julialang.language-julia-1.127.2/scripts/packages/VSCodeServer/src/serve_notebook.jl:147\n",
      " [16] top-level scope\n",
      "    @ ~/.vscode/extensions/julialang.language-julia-1.127.2/scripts/notebook/notebook.jl:35"
     ]
    }
   ],
   "source": [
    "using MAGEMin_C\n",
    "using DataFrames\n",
    "using CSV\n",
    "using drop"
   ]
  },
  {
   "cell_type": "code",
   "execution_count": 187,
   "metadata": {},
   "outputs": [],
   "source": [
    "db = \"ig\"\n",
    "sys_in  = \"wt\"\n",
    "\n",
    "# pressure in kbar\n",
    "P = 50.\n",
    "# temperature \n",
    "T = LinRange(2200, 1000, 20)\n",
    "buffer = \"qfm\"\n",
    "B= -5.\n",
    "\n",
    "database = Initialize_MAGEMin(db, verbose=false, buffer=buffer)\n",
    "\n",
    "dfCompositions = CSV.read(\"thermoInput.csv\", DataFrame)\n",
    "\n",
    "# set oxide order based off of data frame, catching the meta data at beginning\n",
    "Xoxides = names(dfCompositions[1,2:end])\n",
    "\n",
    "cOutputs = []\n",
    "for row in eachrow(dfCompositions)\n",
    "    X = Array(row[2:end])\n",
    "    tOutputs = []\n",
    "    for t in T\n",
    "        tout = single_point_minimization(P, t, database, X=X, Xoxides=Xoxides, sys_in=sys_in, B=B)\n",
    "        push!(tOutputs, tout)\n",
    "    end\n",
    "    push!(cOutputs, (row, tOutputs))\n",
    "end"
   ]
  },
  {
   "cell_type": "code",
   "execution_count": null,
   "metadata": {},
   "outputs": [],
   "source": [
    "phs = [ph.ph for ph in [cOutputs[i][2][end] for i in eachindex(cOutputs)]]\n",
    "uniquePhs = unique(mapreduce(permutedims, hcat, phs))\n",
    "colnames = vcat([\"coreSi\", \"mgsi\", \"P\", \"T\"], uniquePhs)\n",
    "\n",
    "dfSubSol = DataFrame([name => Float64[] for name = colnames])\n",
    "for i in eachindex(cOutputs)\n",
    "    coreSi = cOutputs[i][1][1]\n",
    "    mgsi = cOutputs[i][1].MgO / cOutputs[i][1].SiO2 * ((28.084 + 15.999*2) / (24.305 + 15.9994))\n",
    "    t = cOutputs[i][2][end].T_C\n",
    "    p = cOutputs[i][2][end].P_kbar\n",
    "    push!(dfSubSol, vcat([coreSi, mgsi, p, t], zeros(length(uniquePhs)) ))\n",
    "    for (j, p) in enumerate(cOutputs[i][2][end].ph)\n",
    "        if p != \"qfm\"\n",
    "            dfSubSol[end, p] = cOutputs[i][2][end].ph_frac_wt[j]\n",
    "        end\n",
    "    end\n",
    "end\n",
    "\n",
    "CSV.write(\"subSol.csv\", dfSubSol)"
   ]
  },
  {
   "cell_type": "code",
   "execution_count": 390,
   "metadata": {},
   "outputs": [
    {
     "data": {
      "text/html": [
       "<div><div style = \"float: left;\"><span>100×10 DataFrame</span></div><div style = \"float: right;\"><span style = \"font-style: italic;\">75 rows omitted</span></div><div style = \"clear: both;\"></div></div><div class = \"data-frame\" style = \"overflow-x: scroll;\"><table class = \"data-frame\" style = \"margin-bottom: 6px;\"><thead><tr class = \"header\"><th class = \"rowNumber\" style = \"font-weight: bold; text-align: right;\">Row</th><th style = \"text-align: left;\">coreSi</th><th style = \"text-align: left;\">mgsi</th><th style = \"text-align: left;\">P</th><th style = \"text-align: left;\">T</th><th style = \"text-align: left;\">g</th><th style = \"text-align: left;\">opx</th><th style = \"text-align: left;\">cpx</th><th style = \"text-align: left;\">coe</th><th style = \"text-align: left;\">qfm</th><th style = \"text-align: left;\">ol</th></tr><tr class = \"subheader headerLastRow\"><th class = \"rowNumber\" style = \"font-weight: bold; text-align: right;\"></th><th title = \"Float64\" style = \"text-align: left;\">Float64</th><th title = \"Float64\" style = \"text-align: left;\">Float64</th><th title = \"Float64\" style = \"text-align: left;\">Float64</th><th title = \"Float64\" style = \"text-align: left;\">Float64</th><th title = \"Float64\" style = \"text-align: left;\">Float64</th><th title = \"Float64\" style = \"text-align: left;\">Float64</th><th title = \"Float64\" style = \"text-align: left;\">Float64</th><th title = \"Float64\" style = \"text-align: left;\">Float64</th><th title = \"Float64\" style = \"text-align: left;\">Float64</th><th title = \"Float64\" style = \"text-align: left;\">Float64</th></tr></thead><tbody><tr><td class = \"rowNumber\" style = \"font-weight: bold; text-align: right;\">1</td><td style = \"text-align: right;\">0.0</td><td style = \"text-align: right;\">0.665019</td><td style = \"text-align: right;\">50.0</td><td style = \"text-align: right;\">1000.0</td><td style = \"text-align: right;\">0.0104488</td><td style = \"text-align: right;\">0.722464</td><td style = \"text-align: right;\">0.116698</td><td style = \"text-align: right;\">0.150389</td><td style = \"text-align: right;\">0.0</td><td style = \"text-align: right;\">0.0</td></tr><tr><td class = \"rowNumber\" style = \"font-weight: bold; text-align: right;\">2</td><td style = \"text-align: right;\">0.0634135</td><td style = \"text-align: right;\">0.667516</td><td style = \"text-align: right;\">50.0</td><td style = \"text-align: right;\">1000.0</td><td style = \"text-align: right;\">0.0104737</td><td style = \"text-align: right;\">0.724215</td><td style = \"text-align: right;\">0.117002</td><td style = \"text-align: right;\">0.148309</td><td style = \"text-align: right;\">0.0</td><td style = \"text-align: right;\">0.0</td></tr><tr><td class = \"rowNumber\" style = \"font-weight: bold; text-align: right;\">3</td><td style = \"text-align: right;\">0.126747</td><td style = \"text-align: right;\">0.670031</td><td style = \"text-align: right;\">50.0</td><td style = \"text-align: right;\">1000.0</td><td style = \"text-align: right;\">0.0104999</td><td style = \"text-align: right;\">0.726025</td><td style = \"text-align: right;\">0.117256</td><td style = \"text-align: right;\">0.146219</td><td style = \"text-align: right;\">0.0</td><td style = \"text-align: right;\">0.0</td></tr><tr><td class = \"rowNumber\" style = \"font-weight: bold; text-align: right;\">4</td><td style = \"text-align: right;\">0.19</td><td style = \"text-align: right;\">0.672565</td><td style = \"text-align: right;\">50.0</td><td style = \"text-align: right;\">1000.0</td><td style = \"text-align: right;\">0.0105253</td><td style = \"text-align: right;\">0.727746</td><td style = \"text-align: right;\">0.117612</td><td style = \"text-align: right;\">0.144117</td><td style = \"text-align: right;\">0.0</td><td style = \"text-align: right;\">0.0</td></tr><tr><td class = \"rowNumber\" style = \"font-weight: bold; text-align: right;\">5</td><td style = \"text-align: right;\">0.253172</td><td style = \"text-align: right;\">0.675119</td><td style = \"text-align: right;\">50.0</td><td style = \"text-align: right;\">1000.0</td><td style = \"text-align: right;\">0.0105518</td><td style = \"text-align: right;\">0.729599</td><td style = \"text-align: right;\">0.117843</td><td style = \"text-align: right;\">0.142006</td><td style = \"text-align: right;\">0.0</td><td style = \"text-align: right;\">0.0</td></tr><tr><td class = \"rowNumber\" style = \"font-weight: bold; text-align: right;\">6</td><td style = \"text-align: right;\">0.316265</td><td style = \"text-align: right;\">0.677692</td><td style = \"text-align: right;\">50.0</td><td style = \"text-align: right;\">1000.0</td><td style = \"text-align: right;\">0.0105774</td><td style = \"text-align: right;\">0.731397</td><td style = \"text-align: right;\">0.118141</td><td style = \"text-align: right;\">0.139884</td><td style = \"text-align: right;\">0.0</td><td style = \"text-align: right;\">0.0</td></tr><tr><td class = \"rowNumber\" style = \"font-weight: bold; text-align: right;\">7</td><td style = \"text-align: right;\">0.379278</td><td style = \"text-align: right;\">0.680285</td><td style = \"text-align: right;\">50.0</td><td style = \"text-align: right;\">1000.0</td><td style = \"text-align: right;\">0.0106039</td><td style = \"text-align: right;\">0.733223</td><td style = \"text-align: right;\">0.118422</td><td style = \"text-align: right;\">0.137751</td><td style = \"text-align: right;\">0.0</td><td style = \"text-align: right;\">0.0</td></tr><tr><td class = \"rowNumber\" style = \"font-weight: bold; text-align: right;\">8</td><td style = \"text-align: right;\">0.442212</td><td style = \"text-align: right;\">0.682897</td><td style = \"text-align: right;\">50.0</td><td style = \"text-align: right;\">1000.0</td><td style = \"text-align: right;\">0.0106303</td><td style = \"text-align: right;\">0.73501</td><td style = \"text-align: right;\">0.118751</td><td style = \"text-align: right;\">0.135608</td><td style = \"text-align: right;\">0.0</td><td style = \"text-align: right;\">0.0</td></tr><tr><td class = \"rowNumber\" style = \"font-weight: bold; text-align: right;\">9</td><td style = \"text-align: right;\">0.505066</td><td style = \"text-align: right;\">0.68553</td><td style = \"text-align: right;\">50.0</td><td style = \"text-align: right;\">1000.0</td><td style = \"text-align: right;\">0.0106569</td><td style = \"text-align: right;\">0.736885</td><td style = \"text-align: right;\">0.119003</td><td style = \"text-align: right;\">0.133455</td><td style = \"text-align: right;\">0.0</td><td style = \"text-align: right;\">0.0</td></tr><tr><td class = \"rowNumber\" style = \"font-weight: bold; text-align: right;\">10</td><td style = \"text-align: right;\">0.567841</td><td style = \"text-align: right;\">0.688183</td><td style = \"text-align: right;\">50.0</td><td style = \"text-align: right;\">1000.0</td><td style = \"text-align: right;\">0.010683</td><td style = \"text-align: right;\">0.738694</td><td style = \"text-align: right;\">0.119333</td><td style = \"text-align: right;\">0.13129</td><td style = \"text-align: right;\">0.0</td><td style = \"text-align: right;\">0.0</td></tr><tr><td class = \"rowNumber\" style = \"font-weight: bold; text-align: right;\">11</td><td style = \"text-align: right;\">0.630536</td><td style = \"text-align: right;\">0.690857</td><td style = \"text-align: right;\">50.0</td><td style = \"text-align: right;\">1000.0</td><td style = \"text-align: right;\">0.0107099</td><td style = \"text-align: right;\">0.740542</td><td style = \"text-align: right;\">0.119634</td><td style = \"text-align: right;\">0.129115</td><td style = \"text-align: right;\">0.0</td><td style = \"text-align: right;\">0.0</td></tr><tr><td class = \"rowNumber\" style = \"font-weight: bold; text-align: right;\">12</td><td style = \"text-align: right;\">0.693153</td><td style = \"text-align: right;\">0.693552</td><td style = \"text-align: right;\">50.0</td><td style = \"text-align: right;\">1000.0</td><td style = \"text-align: right;\">0.010737</td><td style = \"text-align: right;\">0.742404</td><td style = \"text-align: right;\">0.119931</td><td style = \"text-align: right;\">0.126928</td><td style = \"text-align: right;\">0.0</td><td style = \"text-align: right;\">0.0</td></tr><tr><td class = \"rowNumber\" style = \"font-weight: bold; text-align: right;\">13</td><td style = \"text-align: right;\">0.755691</td><td style = \"text-align: right;\">0.696267</td><td style = \"text-align: right;\">50.0</td><td style = \"text-align: right;\">1000.0</td><td style = \"text-align: right;\">0.010764</td><td style = \"text-align: right;\">0.7443</td><td style = \"text-align: right;\">0.120205</td><td style = \"text-align: right;\">0.124731</td><td style = \"text-align: right;\">0.0</td><td style = \"text-align: right;\">0.0</td></tr><tr><td style = \"text-align: right;\">&vellip;</td><td style = \"text-align: right;\">&vellip;</td><td style = \"text-align: right;\">&vellip;</td><td style = \"text-align: right;\">&vellip;</td><td style = \"text-align: right;\">&vellip;</td><td style = \"text-align: right;\">&vellip;</td><td style = \"text-align: right;\">&vellip;</td><td style = \"text-align: right;\">&vellip;</td><td style = \"text-align: right;\">&vellip;</td><td style = \"text-align: right;\">&vellip;</td><td style = \"text-align: right;\">&vellip;</td></tr><tr><td class = \"rowNumber\" style = \"font-weight: bold; text-align: right;\">89</td><td style = \"text-align: right;\">5.28862</td><td style = \"text-align: right;\">0.991264</td><td style = \"text-align: right;\">50.0</td><td style = \"text-align: right;\">1000.0</td><td style = \"text-align: right;\">0.0136246</td><td style = \"text-align: right;\">0.61901</td><td style = \"text-align: right;\">0.174095</td><td style = \"text-align: right;\">0.0</td><td style = \"text-align: right;\">0.0</td><td style = \"text-align: right;\">0.19327</td></tr><tr><td class = \"rowNumber\" style = \"font-weight: bold; text-align: right;\">90</td><td style = \"text-align: right;\">5.3455</td><td style = \"text-align: right;\">0.996821</td><td style = \"text-align: right;\">50.0</td><td style = \"text-align: right;\">1000.0</td><td style = \"text-align: right;\">0.0136689</td><td style = \"text-align: right;\">0.609438</td><td style = \"text-align: right;\">0.175684</td><td style = \"text-align: right;\">0.0</td><td style = \"text-align: right;\">0.0</td><td style = \"text-align: right;\">0.201209</td></tr><tr><td class = \"rowNumber\" style = \"font-weight: bold; text-align: right;\">91</td><td style = \"text-align: right;\">5.40232</td><td style = \"text-align: right;\">1.00244</td><td style = \"text-align: right;\">50.0</td><td style = \"text-align: right;\">1000.0</td><td style = \"text-align: right;\">0.0137149</td><td style = \"text-align: right;\">0.599855</td><td style = \"text-align: right;\">0.177235</td><td style = \"text-align: right;\">0.0</td><td style = \"text-align: right;\">0.0</td><td style = \"text-align: right;\">0.209195</td></tr><tr><td class = \"rowNumber\" style = \"font-weight: bold; text-align: right;\">92</td><td style = \"text-align: right;\">5.45907</td><td style = \"text-align: right;\">1.00812</td><td style = \"text-align: right;\">50.0</td><td style = \"text-align: right;\">1000.0</td><td style = \"text-align: right;\">0.01376</td><td style = \"text-align: right;\">0.590233</td><td style = \"text-align: right;\">0.178773</td><td style = \"text-align: right;\">0.0</td><td style = \"text-align: right;\">0.0</td><td style = \"text-align: right;\">0.217235</td></tr><tr><td class = \"rowNumber\" style = \"font-weight: bold; text-align: right;\">93</td><td style = \"text-align: right;\">5.51575</td><td style = \"text-align: right;\">1.01387</td><td style = \"text-align: right;\">50.0</td><td style = \"text-align: right;\">1000.0</td><td style = \"text-align: right;\">0.0138075</td><td style = \"text-align: right;\">0.580535</td><td style = \"text-align: right;\">0.180333</td><td style = \"text-align: right;\">0.0</td><td style = \"text-align: right;\">0.0</td><td style = \"text-align: right;\">0.225324</td></tr><tr><td class = \"rowNumber\" style = \"font-weight: bold; text-align: right;\">94</td><td style = \"text-align: right;\">5.57236</td><td style = \"text-align: right;\">1.01969</td><td style = \"text-align: right;\">50.0</td><td style = \"text-align: right;\">1000.0</td><td style = \"text-align: right;\">0.0138533</td><td style = \"text-align: right;\">0.570702</td><td style = \"text-align: right;\">0.181982</td><td style = \"text-align: right;\">0.0</td><td style = \"text-align: right;\">0.0</td><td style = \"text-align: right;\">0.233463</td></tr><tr><td class = \"rowNumber\" style = \"font-weight: bold; text-align: right;\">95</td><td style = \"text-align: right;\">5.62891</td><td style = \"text-align: right;\">1.02557</td><td style = \"text-align: right;\">50.0</td><td style = \"text-align: right;\">1000.0</td><td style = \"text-align: right;\">0.013899</td><td style = \"text-align: right;\">0.560784</td><td style = \"text-align: right;\">0.183661</td><td style = \"text-align: right;\">0.0</td><td style = \"text-align: right;\">0.0</td><td style = \"text-align: right;\">0.241655</td></tr><tr><td class = \"rowNumber\" style = \"font-weight: bold; text-align: right;\">96</td><td style = \"text-align: right;\">5.68538</td><td style = \"text-align: right;\">1.03152</td><td style = \"text-align: right;\">50.0</td><td style = \"text-align: right;\">1000.0</td><td style = \"text-align: right;\">0.0139459</td><td style = \"text-align: right;\">0.550918</td><td style = \"text-align: right;\">0.185235</td><td style = \"text-align: right;\">0.0</td><td style = \"text-align: right;\">0.0</td><td style = \"text-align: right;\">0.249901</td></tr><tr><td class = \"rowNumber\" style = \"font-weight: bold; text-align: right;\">97</td><td style = \"text-align: right;\">5.74179</td><td style = \"text-align: right;\">1.03754</td><td style = \"text-align: right;\">50.0</td><td style = \"text-align: right;\">1000.0</td><td style = \"text-align: right;\">0.0139932</td><td style = \"text-align: right;\">0.540924</td><td style = \"text-align: right;\">0.186887</td><td style = \"text-align: right;\">0.0</td><td style = \"text-align: right;\">0.0</td><td style = \"text-align: right;\">0.258196</td></tr><tr><td class = \"rowNumber\" style = \"font-weight: bold; text-align: right;\">98</td><td style = \"text-align: right;\">5.79814</td><td style = \"text-align: right;\">1.04363</td><td style = \"text-align: right;\">50.0</td><td style = \"text-align: right;\">1000.0</td><td style = \"text-align: right;\">0.0140417</td><td style = \"text-align: right;\">0.530902</td><td style = \"text-align: right;\">0.188511</td><td style = \"text-align: right;\">0.0</td><td style = \"text-align: right;\">0.0</td><td style = \"text-align: right;\">0.266545</td></tr><tr><td class = \"rowNumber\" style = \"font-weight: bold; text-align: right;\">99</td><td style = \"text-align: right;\">5.85441</td><td style = \"text-align: right;\">1.04979</td><td style = \"text-align: right;\">50.0</td><td style = \"text-align: right;\">1000.0</td><td style = \"text-align: right;\">0.0140888</td><td style = \"text-align: right;\">0.520814</td><td style = \"text-align: right;\">0.190151</td><td style = \"text-align: right;\">0.0</td><td style = \"text-align: right;\">0.0</td><td style = \"text-align: right;\">0.274945</td></tr><tr><td class = \"rowNumber\" style = \"font-weight: bold; text-align: right;\">100</td><td style = \"text-align: right;\">5.91062</td><td style = \"text-align: right;\">1.05602</td><td style = \"text-align: right;\">50.0</td><td style = \"text-align: right;\">1000.0</td><td style = \"text-align: right;\">0.0141365</td><td style = \"text-align: right;\">0.510609</td><td style = \"text-align: right;\">0.191851</td><td style = \"text-align: right;\">0.0</td><td style = \"text-align: right;\">0.0</td><td style = \"text-align: right;\">0.283404</td></tr></tbody></table></div>"
      ],
      "text/latex": [
       "\\begin{tabular}{r|ccccccccc}\n",
       "\t& coreSi & mgsi & P & T & g & opx & cpx & coe & \\\\\n",
       "\t\\hline\n",
       "\t& Float64 & Float64 & Float64 & Float64 & Float64 & Float64 & Float64 & Float64 & \\\\\n",
       "\t\\hline\n",
       "\t1 & 0.0 & 0.665019 & 50.0 & 1000.0 & 0.0104488 & 0.722464 & 0.116698 & 0.150389 & $\\dots$ \\\\\n",
       "\t2 & 0.0634135 & 0.667516 & 50.0 & 1000.0 & 0.0104737 & 0.724215 & 0.117002 & 0.148309 & $\\dots$ \\\\\n",
       "\t3 & 0.126747 & 0.670031 & 50.0 & 1000.0 & 0.0104999 & 0.726025 & 0.117256 & 0.146219 & $\\dots$ \\\\\n",
       "\t4 & 0.19 & 0.672565 & 50.0 & 1000.0 & 0.0105253 & 0.727746 & 0.117612 & 0.144117 & $\\dots$ \\\\\n",
       "\t5 & 0.253172 & 0.675119 & 50.0 & 1000.0 & 0.0105518 & 0.729599 & 0.117843 & 0.142006 & $\\dots$ \\\\\n",
       "\t6 & 0.316265 & 0.677692 & 50.0 & 1000.0 & 0.0105774 & 0.731397 & 0.118141 & 0.139884 & $\\dots$ \\\\\n",
       "\t7 & 0.379278 & 0.680285 & 50.0 & 1000.0 & 0.0106039 & 0.733223 & 0.118422 & 0.137751 & $\\dots$ \\\\\n",
       "\t8 & 0.442212 & 0.682897 & 50.0 & 1000.0 & 0.0106303 & 0.73501 & 0.118751 & 0.135608 & $\\dots$ \\\\\n",
       "\t9 & 0.505066 & 0.68553 & 50.0 & 1000.0 & 0.0106569 & 0.736885 & 0.119003 & 0.133455 & $\\dots$ \\\\\n",
       "\t10 & 0.567841 & 0.688183 & 50.0 & 1000.0 & 0.010683 & 0.738694 & 0.119333 & 0.13129 & $\\dots$ \\\\\n",
       "\t11 & 0.630536 & 0.690857 & 50.0 & 1000.0 & 0.0107099 & 0.740542 & 0.119634 & 0.129115 & $\\dots$ \\\\\n",
       "\t12 & 0.693153 & 0.693552 & 50.0 & 1000.0 & 0.010737 & 0.742404 & 0.119931 & 0.126928 & $\\dots$ \\\\\n",
       "\t13 & 0.755691 & 0.696267 & 50.0 & 1000.0 & 0.010764 & 0.7443 & 0.120205 & 0.124731 & $\\dots$ \\\\\n",
       "\t14 & 0.81815 & 0.699005 & 50.0 & 1000.0 & 0.0107913 & 0.746162 & 0.120525 & 0.122522 & $\\dots$ \\\\\n",
       "\t15 & 0.88053 & 0.701763 & 50.0 & 1000.0 & 0.0108184 & 0.748031 & 0.120848 & 0.120303 & $\\dots$ \\\\\n",
       "\t16 & 0.942832 & 0.704544 & 50.0 & 1000.0 & 0.0108455 & 0.74993 & 0.121152 & 0.118073 & $\\dots$ \\\\\n",
       "\t17 & 1.00506 & 0.707347 & 50.0 & 1000.0 & 0.0108731 & 0.751845 & 0.121452 & 0.115831 & $\\dots$ \\\\\n",
       "\t18 & 1.0672 & 0.710172 & 50.0 & 1000.0 & 0.0109013 & 0.753788 & 0.121733 & 0.113578 & $\\dots$ \\\\\n",
       "\t19 & 1.12927 & 0.713019 & 50.0 & 1000.0 & 0.010928 & 0.755639 & 0.122122 & 0.111311 & $\\dots$ \\\\\n",
       "\t20 & 1.19126 & 0.71589 & 50.0 & 1000.0 & 0.0109569 & 0.757585 & 0.122422 & 0.109036 & $\\dots$ \\\\\n",
       "\t21 & 1.25317 & 0.718784 & 50.0 & 1000.0 & 0.0109841 & 0.759487 & 0.122782 & 0.106747 & $\\dots$ \\\\\n",
       "\t22 & 1.31501 & 0.721701 & 50.0 & 1000.0 & 0.0110125 & 0.761489 & 0.123051 & 0.104447 & $\\dots$ \\\\\n",
       "\t23 & 1.37676 & 0.724643 & 50.0 & 1000.0 & 0.0110414 & 0.763454 & 0.12337 & 0.102135 & $\\dots$ \\\\\n",
       "\t24 & 1.43844 & 0.727608 & 50.0 & 1000.0 & 0.0110701 & 0.765458 & 0.123661 & 0.0998105 & $\\dots$ \\\\\n",
       "\t$\\dots$ & $\\dots$ & $\\dots$ & $\\dots$ & $\\dots$ & $\\dots$ & $\\dots$ & $\\dots$ & $\\dots$ &  \\\\\n",
       "\\end{tabular}\n"
      ],
      "text/plain": [
       "\u001b[1m100×10 DataFrame\u001b[0m\n",
       "\u001b[1m Row \u001b[0m│\u001b[1m coreSi    \u001b[0m\u001b[1m mgsi     \u001b[0m\u001b[1m P       \u001b[0m\u001b[1m T       \u001b[0m\u001b[1m g         \u001b[0m\u001b[1m opx      \u001b[0m\u001b[1m cpx      \u001b[0m\u001b[1m c\u001b[0m ⋯\n",
       "     │\u001b[90m Float64   \u001b[0m\u001b[90m Float64  \u001b[0m\u001b[90m Float64 \u001b[0m\u001b[90m Float64 \u001b[0m\u001b[90m Float64   \u001b[0m\u001b[90m Float64  \u001b[0m\u001b[90m Float64  \u001b[0m\u001b[90m F\u001b[0m ⋯\n",
       "─────┼──────────────────────────────────────────────────────────────────────────\n",
       "   1 │ 0.0        0.665019     50.0   1000.0  0.0104488  0.722464  0.116698  0 ⋯\n",
       "   2 │ 0.0634135  0.667516     50.0   1000.0  0.0104737  0.724215  0.117002  0\n",
       "   3 │ 0.126747   0.670031     50.0   1000.0  0.0104999  0.726025  0.117256  0\n",
       "   4 │ 0.19       0.672565     50.0   1000.0  0.0105253  0.727746  0.117612  0\n",
       "   5 │ 0.253172   0.675119     50.0   1000.0  0.0105518  0.729599  0.117843  0 ⋯\n",
       "   6 │ 0.316265   0.677692     50.0   1000.0  0.0105774  0.731397  0.118141  0\n",
       "   7 │ 0.379278   0.680285     50.0   1000.0  0.0106039  0.733223  0.118422  0\n",
       "   8 │ 0.442212   0.682897     50.0   1000.0  0.0106303  0.73501   0.118751  0\n",
       "  ⋮  │     ⋮         ⋮         ⋮        ⋮         ⋮         ⋮         ⋮        ⋱\n",
       "  94 │ 5.57236    1.01969      50.0   1000.0  0.0138533  0.570702  0.181982  0 ⋯\n",
       "  95 │ 5.62891    1.02557      50.0   1000.0  0.013899   0.560784  0.183661  0\n",
       "  96 │ 5.68538    1.03152      50.0   1000.0  0.0139459  0.550918  0.185235  0\n",
       "  97 │ 5.74179    1.03754      50.0   1000.0  0.0139932  0.540924  0.186887  0\n",
       "  98 │ 5.79814    1.04363      50.0   1000.0  0.0140417  0.530902  0.188511  0 ⋯\n",
       "  99 │ 5.85441    1.04979      50.0   1000.0  0.0140888  0.520814  0.190151  0\n",
       " 100 │ 5.91062    1.05602      50.0   1000.0  0.0141365  0.510609  0.191851  0\n",
       "\u001b[36m                                                   3 columns and 85 rows omitted\u001b[0m"
      ]
     },
     "metadata": {},
     "output_type": "display_data"
    }
   ],
   "source": [
    "dfSubSol"
   ]
  },
  {
   "cell_type": "code",
   "execution_count": 320,
   "metadata": {},
   "outputs": [
    {
     "data": {
      "text/html": [
       "<div><div style = \"float: left;\"><span>2×10 DataFrame</span></div><div style = \"clear: both;\"></div></div><div class = \"data-frame\" style = \"overflow-x: scroll;\"><table class = \"data-frame\" style = \"margin-bottom: 6px;\"><thead><tr class = \"header\"><th class = \"rowNumber\" style = \"font-weight: bold; text-align: right;\">Row</th><th style = \"text-align: left;\">coreSi</th><th style = \"text-align: left;\">mgsi</th><th style = \"text-align: left;\">T</th><th style = \"text-align: left;\">P</th><th style = \"text-align: left;\">g</th><th style = \"text-align: left;\">opx</th><th style = \"text-align: left;\">cpx</th><th style = \"text-align: left;\">coe</th><th style = \"text-align: left;\">qfm</th><th style = \"text-align: left;\">ol</th></tr><tr class = \"subheader headerLastRow\"><th class = \"rowNumber\" style = \"font-weight: bold; text-align: right;\"></th><th title = \"Any\" style = \"text-align: left;\">Any</th><th title = \"Any\" style = \"text-align: left;\">Any</th><th title = \"Any\" style = \"text-align: left;\">Any</th><th title = \"Any\" style = \"text-align: left;\">Any</th><th title = \"Any\" style = \"text-align: left;\">Any</th><th title = \"Any\" style = \"text-align: left;\">Any</th><th title = \"Any\" style = \"text-align: left;\">Any</th><th title = \"Any\" style = \"text-align: left;\">Any</th><th title = \"Any\" style = \"text-align: left;\">Any</th><th title = \"Any\" style = \"text-align: left;\">Any</th></tr></thead><tbody><tr><td class = \"rowNumber\" style = \"font-weight: bold; text-align: right;\">1</td><td style = \"text-align: left;\">1</td><td style = \"text-align: left;\">1</td><td style = \"text-align: left;\">1</td><td style = \"text-align: left;\">1</td><td style = \"text-align: left;\">1</td><td style = \"text-align: left;\">1</td><td style = \"text-align: left;\">1</td><td style = \"text-align: left;\">1</td><td style = \"text-align: left;\">1</td><td style = \"text-align: left;\">1</td></tr><tr><td class = \"rowNumber\" style = \"font-weight: bold; text-align: right;\">2</td><td style = \"text-align: left;\">1</td><td style = \"text-align: left;\">1</td><td style = \"text-align: left;\">1</td><td style = \"text-align: left;\">1</td><td style = \"text-align: left;\">1</td><td style = \"text-align: left;\">1</td><td style = \"text-align: left;\">1</td><td style = \"text-align: left;\">1</td><td style = \"text-align: left;\">1</td><td style = \"text-align: left;\">1</td></tr></tbody></table></div>"
      ],
      "text/latex": [
       "\\begin{tabular}{r|cccccccccc}\n",
       "\t& coreSi & mgsi & T & P & g & opx & cpx & coe & qfm & ol\\\\\n",
       "\t\\hline\n",
       "\t& Any & Any & Any & Any & Any & Any & Any & Any & Any & Any\\\\\n",
       "\t\\hline\n",
       "\t1 & 1 & 1 & 1 & 1 & 1 & 1 & 1 & 1 & 1 & 1 \\\\\n",
       "\t2 & 1 & 1 & 1 & 1 & 1 & 1 & 1 & 1 & 1 & 1 \\\\\n",
       "\\end{tabular}\n"
      ],
      "text/plain": [
       "\u001b[1m2×10 DataFrame\u001b[0m\n",
       "\u001b[1m Row \u001b[0m│\u001b[1m coreSi \u001b[0m\u001b[1m mgsi \u001b[0m\u001b[1m T   \u001b[0m\u001b[1m P   \u001b[0m\u001b[1m g   \u001b[0m\u001b[1m opx \u001b[0m\u001b[1m cpx \u001b[0m\u001b[1m coe \u001b[0m\u001b[1m qfm \u001b[0m\u001b[1m ol  \u001b[0m\n",
       "     │\u001b[90m Any    \u001b[0m\u001b[90m Any  \u001b[0m\u001b[90m Any \u001b[0m\u001b[90m Any \u001b[0m\u001b[90m Any \u001b[0m\u001b[90m Any \u001b[0m\u001b[90m Any \u001b[0m\u001b[90m Any \u001b[0m\u001b[90m Any \u001b[0m\u001b[90m Any \u001b[0m\n",
       "─────┼──────────────────────────────────────────────────────\n",
       "   1 │ 1       1     1    1    1    1    1    1    1    1\n",
       "   2 │ 1       1     1    1    1    1    1    1    1    1"
      ]
     },
     "metadata": {},
     "output_type": "display_data"
    }
   ],
   "source": [
    "push!(dfSubSol, [1,1,1,1,1,1,1,1,1,1])"
   ]
  }
 ],
 "metadata": {
  "kernelspec": {
   "display_name": "Julia 1.11.4",
   "language": "julia",
   "name": "julia-1.11"
  },
  "language_info": {
   "file_extension": ".jl",
   "mimetype": "application/julia",
   "name": "julia",
   "version": "1.11.4"
  }
 },
 "nbformat": 4,
 "nbformat_minor": 2
}
