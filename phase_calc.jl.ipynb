{
 "cells": [
  {
   "cell_type": "code",
   "execution_count": 111,
   "metadata": {},
   "outputs": [],
   "source": [
    "using MAGEMin_C\n",
    "using DataFrames\n",
    "using CSV\n",
    "using Optim\n",
    "using Tables"
   ]
  },
  {
   "cell_type": "markdown",
   "metadata": {},
   "source": [
    "## Calculate for fiducial Enst composition & metal depleted"
   ]
  },
  {
   "cell_type": "code",
   "execution_count": null,
   "metadata": {},
   "outputs": [],
   "source": [
    "db = \"ig\"\n",
    "sys_in  = \"wt\"\n",
    "\n",
    "# pressure in kbar\n",
    "P = 50.\n",
    "# temperature \n",
    "T = LinRange(2200, 1000, 20)\n",
    "buffer = \"qfm\"\n",
    "B= -5.\n",
    "\n",
    "database = Initialize_MAGEMin(db, verbose=false, buffer=buffer)\n",
    "\n",
    "dfCompositions = CSV.read(\"thermoInput.csv\", DataFrame)\n",
    "dfCompositionsLSi = CSV.read(\"thermoInputLSi.csv\", DataFrame)\n",
    "\n",
    "# set oxide order based off of data frame, catching the meta data at beginning\n",
    "Xoxides = names(dfCompositions[1,2:end])\n",
    "\n",
    "cOutputs = []\n",
    "for row in eachrow(dfCompositions)\n",
    "    X = Array(row[2:end])\n",
    "    tOutputs = []\n",
    "    for t in T\n",
    "        tout = single_point_minimization(P, t, database, X=X, Xoxides=Xoxides, sys_in=sys_in, B=B)\n",
    "        push!(tOutputs, tout)\n",
    "    end\n",
    "    push!(cOutputs, (row, tOutputs))\n",
    "end"
   ]
  },
  {
   "cell_type": "code",
   "execution_count": 406,
   "metadata": {},
   "outputs": [],
   "source": [
    "cOutputsLSi = []\n",
    "for row in eachrow(dfCompositionsLSi)\n",
    "    X = Array(row[2:end])\n",
    "    tOutputs = []\n",
    "    for t in T\n",
    "        tout = single_point_minimization(P, t, database, X=X, Xoxides=Xoxides, sys_in=sys_in, B=B)\n",
    "        push!(tOutputs, tout)\n",
    "    end\n",
    "    push!(cOutputsLSi, (row, tOutputs))\n",
    "end"
   ]
  },
  {
   "cell_type": "code",
   "execution_count": 407,
   "metadata": {},
   "outputs": [
    {
     "data": {
      "text/plain": [
       "\"subSolLSi.csv\""
      ]
     },
     "metadata": {},
     "output_type": "display_data"
    }
   ],
   "source": [
    "# Regular Si\n",
    "phs = [ph.ph for ph in [cOutputs[i][2][end] for i in eachindex(cOutputs)]]\n",
    "uniquePhs = unique(mapreduce(permutedims, hcat, phs))\n",
    "colnames = vcat([\"coreSi\", \"mgsi\", \"P\", \"T\"], uniquePhs)\n",
    "\n",
    "dfSubSol = DataFrame([name => Float64[] for name = colnames])\n",
    "for i in eachindex(cOutputs)\n",
    "    coreSi = cOutputs[i][1][1]\n",
    "    mgsi = cOutputs[i][1].MgO / cOutputs[i][1].SiO2 * ((28.084 + 15.999*2) / (24.305 + 15.9994))\n",
    "    t = cOutputs[i][2][end].T_C\n",
    "    p = cOutputs[i][2][end].P_kbar\n",
    "    push!(dfSubSol, vcat([coreSi, mgsi, p, t], zeros(length(uniquePhs)) ))\n",
    "    for (j, p) in enumerate(cOutputs[i][2][end].ph)\n",
    "        if p != \"qfm\"\n",
    "            dfSubSol[end, p] = cOutputs[i][2][end].ph_frac_wt[j]\n",
    "        end\n",
    "    end\n",
    "end\n",
    "\n",
    "CSV.write(\"subSol.csv\", dfSubSol)\n",
    "\n",
    "# Low Si\n",
    "phs = [ph.ph for ph in [cOutputsLSi[i][2][end] for i in eachindex(cOutputsLSi)]]\n",
    "uniquePhs = unique(mapreduce(permutedims, hcat, phs))\n",
    "colnames = vcat([\"coreSi\", \"mgsi\", \"P\", \"T\"], uniquePhs)\n",
    "\n",
    "dfSubSolLSi = DataFrame([name => Float64[] for name = colnames])\n",
    "for i in eachindex(cOutputsLSi)\n",
    "    coreSi = cOutputsLSi[i][1][1]\n",
    "    mgsi = cOutputsLSi[i][1].MgO / cOutputsLSi[i][1].SiO2 * ((28.084 + 15.999*2) / (24.305 + 15.9994))\n",
    "    t = cOutputsLSi[i][2][end].T_C\n",
    "    p = cOutputsLSi[i][2][end].P_kbar\n",
    "    push!(dfSubSolLSi, vcat([coreSi, mgsi, p, t], zeros(length(uniquePhs)) ))\n",
    "    for (j, p) in enumerate(cOutputsLSi[i][2][end].ph)\n",
    "        if p != \"qfm\"\n",
    "            dfSubSolLSi[end, p] = cOutputsLSi[i][2][end].ph_frac_wt[j]\n",
    "        end\n",
    "    end\n",
    "end\n",
    "\n",
    "CSV.write(\"subSolLSi.csv\", dfSubSolLSi)"
   ]
  },
  {
   "cell_type": "code",
   "execution_count": 404,
   "metadata": {},
   "outputs": [
    {
     "data": {
      "text/plain": [
       "Pressure          : 50.0      [kbar]\n",
       "Temperature       : 1821.0526    [Celsius]\n",
       "     Stable phase | Fraction (mol fraction) \n",
       "               ol   0.25336 \n",
       "              liq   0.1361 \n",
       "              cpx   0.57659 \n",
       "              opx   0.03395 \n",
       "              qfm   0.0 \n",
       "     Stable phase | Fraction (wt fraction) \n",
       "               ol   0.23298 \n",
       "              liq   0.14157 \n",
       "              cpx   0.59112 \n",
       "              opx   0.03433 \n",
       "              qfm   0.0 \n",
       "     Stable phase | Fraction (vol fraction) \n",
       "               ol   0.23346 \n",
       "              liq   0.15347 \n",
       "              cpx   0.57942 \n",
       "              opx   0.03365 \n",
       "              qfm   0.0 \n",
       "Gibbs free energy : -898.811335  (221 iterations; 119.18 ms)\n",
       "Oxygen fugacity          : -5.9631413134683005\n",
       "Delta QFM                : -5.00010094296507\n"
      ]
     },
     "metadata": {},
     "output_type": "display_data"
    }
   ],
   "source": [
    "cOutputs[end][2][7]"
   ]
  },
  {
   "cell_type": "markdown",
   "metadata": {},
   "source": [
    "Si activity calculator"
   ]
  },
  {
   "cell_type": "code",
   "execution_count": null,
   "metadata": {},
   "outputs": [
    {
     "name": "stdout",
     "output_type": "stream",
     "text": [
      "10.044444444444446\r"
     ]
    }
   ],
   "source": [
    "db = \"ig\"\n",
    "sys_in  = \"wt\"\n",
    "\n",
    "# pressure in kbar\n",
    "# temperature \n",
    "buffer = \"qfm\"\n",
    "B= -5.\n",
    "\n",
    "database = Initialize_MAGEMin(db, verbose=false, buffer=buffer)\n",
    "\n",
    "dfCompositions = CSV.read(\"thermoInput.csv\", DataFrame)\n",
    "dfCompositionsLSi = CSV.read(\"thermoInputLSi.csv\", DataFrame)\n",
    "\n",
    "# set oxide order based off of data frame, catching the meta data at beginning\n",
    "Xoxides = names(dfCompositions[1,2:end])\n",
    "\n",
    "cOutputs = []\n",
    "# for row in eachrow(dfCompositions)\n",
    "i = 70\n",
    "X = Array(dfCompositions[i,2:end])\n",
    "t = 1500.\n",
    "function fun(t, p)\n",
    "    \n",
    "    tout = single_point_minimization(p, t[1], database, X=X, Xoxides=Xoxides, sys_in=sys_in, B=B)\n",
    "\n",
    "    mf = 0\n",
    "    try\n",
    "        iLiq = findall(x->x==\"liq\", tout.ph)[1]\n",
    "        fMelt = tout.ph_frac_wt[iLiq]\n",
    "        mf = (0.05 - fMelt)^2\n",
    "    catch e\n",
    "        mf = 2\n",
    "    end\n",
    "    mf\n",
    "end\n",
    "\n",
    "x0 = [1900.]\n",
    "P = LinRange(50, 10, 20)\n",
    "\n",
    "tps = zeros((length(P), 3))\n",
    "for (i, p) in enumerate(P)\n",
    "    print(p,'\\r')\n",
    "    res = optimize((x -> fun(x, p)), x0)\n",
    "\n",
    "    tout = single_point_minimization(p, Optim.minimizer(res)[1], database, X=X, Xoxides=Xoxides, sys_in=sys_in, B=B)\n",
    "    iLiq = findall(x->x==\"liq\", tout.ph)[1]\n",
    "    fMelt = tout.ph_frac_wt[iLiq]\n",
    "\n",
    "    tps[i,:] = [p, Optim.minimizer(res)[1], fMelt]\n",
    "\n",
    "    x0[1] = Optim.minimizer(res)[1]\n",
    "    \n",
    "end\n",
    "\n",
    "# push!(cOutputs, (dfCompositions[i,:], tout))\n",
    "\n",
    "# end"
   ]
  },
  {
   "cell_type": "code",
   "execution_count": 112,
   "metadata": {},
   "outputs": [
    {
     "data": {
      "text/plain": [
       "\"tp.csv\""
      ]
     },
     "metadata": {},
     "output_type": "display_data"
    }
   ],
   "source": [
    "CSV.write(\"tp.csv\", Tables.table(tps), writeheader=false)"
   ]
  },
  {
   "cell_type": "code",
   "execution_count": 109,
   "metadata": {},
   "outputs": [
    {
     "data": {
      "text/plain": [
       "10×3 Matrix{Float64}:\n",
       " 50.0     1806.39  0.0499963\n",
       " 45.5556  1781.04  0.050033\n",
       " 41.1111  1748.8   0.0499704\n",
       " 36.6667  1707.81  0.0498272\n",
       " 32.2222  1656.31  0.050012\n",
       " 27.7778  1592.02  0.0499393\n",
       " 23.3333  1512.92  0.0499574\n",
       " 18.8889  1414.66  0.0499527\n",
       " 14.4444  1286.87  0.0499579\n",
       " 10.0     1141.28  0.0499565"
      ]
     },
     "metadata": {},
     "output_type": "display_data"
    }
   ],
   "source": [
    "tps"
   ]
  }
 ],
 "metadata": {
  "kernelspec": {
   "display_name": "Julia 1.11.4",
   "language": "julia",
   "name": "julia-1.11"
  },
  "language_info": {
   "file_extension": ".jl",
   "mimetype": "application/julia",
   "name": "julia",
   "version": "1.11.4"
  }
 },
 "nbformat": 4,
 "nbformat_minor": 2
}
