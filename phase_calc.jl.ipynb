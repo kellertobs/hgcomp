{
 "cells": [
  {
   "cell_type": "code",
   "execution_count": 11,
   "metadata": {},
   "outputs": [],
   "source": [
    "using MAGEMin_C\n",
    "using DataFrames\n",
    "using CSV"
   ]
  },
  {
   "cell_type": "code",
   "execution_count": null,
   "metadata": {},
   "outputs": [
    {
     "name": "stdout",
     "output_type": "stream",
     "text": [
      "\u001b[1mDataFrameRow\u001b[0m\n",
      "\u001b[1m Row \u001b[0m│\u001b[1m O           \u001b[0m\u001b[1m SiO2    \u001b[0m\u001b[1m MgO     \u001b[0m\u001b[1m Al2O3   \u001b[0m\u001b[1m CaO     \u001b[0m\u001b[1m FeO      \u001b[0m\u001b[1m TiO2      \u001b[0m\u001b[1m Cr2O3    \u001b[0m\u001b[1m Na2O    \u001b[0m\u001b[1m K2O       \u001b[0m\n",
      "     │\u001b[90m Float64     \u001b[0m\u001b[90m Float64 \u001b[0m\u001b[90m Float64 \u001b[0m\u001b[90m Float64 \u001b[0m\u001b[90m Float64 \u001b[0m\u001b[90m Float64  \u001b[0m\u001b[90m Float64   \u001b[0m\u001b[90m Float64  \u001b[0m\u001b[90m Float64 \u001b[0m\u001b[90m Float64   \u001b[0m\n",
      "─────┼────────────────────────────────────────────────────────────────────────────────────────────────────\n",
      "   1 │ 0.000942623  65.3203    29.14  2.31566  1.28668  0.388809  0.0151441  0.171431  1.26333  0.0977165\n"
     ]
    }
   ],
   "source": [
    "database    =   Initialize_MAGEMin(\"ig\", verbose=false);\n",
    "sys_in  = \"wt\"\n",
    "# pressure in kbar\n",
    "P = 50\n",
    "# temperature \n",
    "T = LinRange(2200, 1000, 100)\n",
    "\n",
    "dfCompositions = CSV.read(\"thermoInput.csv\", DataFrame)\n",
    "\n",
    "# set oxide order based off of data frame, catching the meta data at beginning\n",
    "Xoxides = [names(dfCompositions[1,2:end])]\n",
    "\n",
    "for row in eachrow(dfCompositions)\n",
    "    X = row[2:end]\n",
    "    for t in T\n",
    "        out = single_point_minimization(P, t, database, X=X, Xoxides=Xoxides, sys_in=sys_in)\n",
    "        break\n",
    "    end\n",
    "    break\n",
    "end"
   ]
  },
  {
   "cell_type": "code",
   "execution_count": null,
   "metadata": {},
   "outputs": [],
   "source": [
    "out     = multi_point_minimization(P, T, data, X=X, Xoxides=Xoxides, sys_in=sys_in)"
   ]
  },
  {
   "cell_type": "code",
   "execution_count": 34,
   "metadata": {},
   "outputs": [
    {
     "data": {
      "text/plain": [
       "100-element LinRange{Float64, Int64}:\n",
       " 2200.0, 2187.88, 2175.76, 2163.64, …, 1036.36, 1024.24, 1012.12, 1000.0"
      ]
     },
     "metadata": {},
     "output_type": "display_data"
    }
   ],
   "source": [
    "LinRange(2200, 1000, 100)"
   ]
  }
 ],
 "metadata": {
  "kernelspec": {
   "display_name": "Julia 1.11.4",
   "language": "julia",
   "name": "julia-1.11"
  },
  "language_info": {
   "file_extension": ".jl",
   "mimetype": "application/julia",
   "name": "julia",
   "version": "1.11.4"
  }
 },
 "nbformat": 4,
 "nbformat_minor": 2
}
